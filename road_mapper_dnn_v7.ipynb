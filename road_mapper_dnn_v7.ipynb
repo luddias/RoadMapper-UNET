{
  "cells": [
    {
      "cell_type": "markdown",
      "metadata": {
        "id": "SscH4lze36iJ"
      },
      "source": [
        "<div id=\"title\"><h1 style=\"color:white;background:#62909d;border-radius:5px;padding:30px;font-family:'Sans-Serif', cursive;font-size:50px;text-align:center\">U-Net Multiclasses Training</h1></div>\n",
        "\n",
        "Projeto desenvolvido usando a rede de segmentação U-NET, biblioteca Keras e Tensorflow.\n",
        "O Road Mapper DNN tem como objetivo gerar mapas de estrada com segmentação das faixas de sinalização utilizada pelos veículos, tendo como entrada mapas de remissão gerados pelo LIDAR - sensor laser que faz parte do sistema de carros autônomos como o ASTRO da Lume Robotics.\n"
      ]
    },
    {
      "cell_type": "markdown",
      "metadata": {
        "id": "h60IZUtFnxQN"
      },
      "source": [
        "Input | Output\n",
        "------|--------\n",
        "![](https://github.com/LCAD-UFES/carmen_lcad/blob/master/src/road_mapper/data/i7705600_-338380.png?raw=true)|![](https://github.com/LCAD-UFES/carmen_lcad/blob/master/src/road_mapper/data/r7705600_-338380_map_1_6.png?raw=true)"
      ]
    },
    {
      "cell_type": "markdown",
      "metadata": {
        "id": "z6PdraFCnxQO"
      },
      "source": [
        "\n",
        "\n",
        "## Tabela de Conteúdos\n",
        "\n",
        "  **<font size=\"2\"><a href=\"#chap1\">1. Instalar Pacotes</a></font>**\n",
        "  **<br><font size=\"2\"><a href=\"#chap2\">2. Configurações Iniciais</a></font>**\n",
        "  **<br><font size=\"2\"><a href=\"#chap3\">3. Tratamento de Dados</a></font>**\n",
        "  **<br><font size=\"2\"><a href=\"#chap4\">4. Compilação e Treinamento da Rede</a></font>**\n",
        "  **<br><font size=\"2\"><a href=\"#chap5\">5. Analisando os Resultados</a></font>**\n",
        "  **<br><font size=\"2\"><a href=\"#chap6\">6. Realizando Testes</a></font>**"
      ]
    },
    {
      "cell_type": "markdown",
      "metadata": {
        "id": "9eBFMjsRnxQO"
      },
      "source": [
        "##Instalar Pacotes\n"
      ]
    },
    {
      "cell_type": "code",
      "execution_count": null,
      "metadata": {
        "id": "jTCZrx_GnxQO"
      },
      "outputs": [],
      "source": [
        "%pip install opencv-python\n",
        "%pip install tensorflow\n",
        "%pip install numpy\n",
        "%pip install tqdm\n",
        "%pip install scikit-image\n",
        "%pip install scikit-learn\n",
        "%pip install matplotlib\n"
      ]
    },
    {
      "cell_type": "code",
      "execution_count": null,
      "metadata": {
        "colab": {
          "base_uri": "https://localhost:8080/"
        },
        "id": "96CQihMFGYuG",
        "outputId": "66572beb-ea6a-4b5c-f5b3-c885480a327d"
      },
      "outputs": [
        {
          "name": "stdout",
          "output_type": "stream",
          "text": [
            "Requirement already satisfied: kaggle in /usr/local/lib/python3.10/dist-packages (1.5.16)\n",
            "Requirement already satisfied: six>=1.10 in /usr/local/lib/python3.10/dist-packages (from kaggle) (1.16.0)\n",
            "Requirement already satisfied: certifi in /usr/local/lib/python3.10/dist-packages (from kaggle) (2023.7.22)\n",
            "Requirement already satisfied: python-dateutil in /usr/local/lib/python3.10/dist-packages (from kaggle) (2.8.2)\n",
            "Requirement already satisfied: requests in /usr/local/lib/python3.10/dist-packages (from kaggle) (2.31.0)\n",
            "Requirement already satisfied: tqdm in /usr/local/lib/python3.10/dist-packages (from kaggle) (4.66.1)\n",
            "Requirement already satisfied: python-slugify in /usr/local/lib/python3.10/dist-packages (from kaggle) (8.0.1)\n",
            "Requirement already satisfied: urllib3 in /usr/local/lib/python3.10/dist-packages (from kaggle) (2.0.4)\n",
            "Requirement already satisfied: bleach in /usr/local/lib/python3.10/dist-packages (from kaggle) (6.0.0)\n",
            "Requirement already satisfied: webencodings in /usr/local/lib/python3.10/dist-packages (from bleach->kaggle) (0.5.1)\n",
            "Requirement already satisfied: text-unidecode>=1.3 in /usr/local/lib/python3.10/dist-packages (from python-slugify->kaggle) (1.3)\n",
            "Requirement already satisfied: charset-normalizer<4,>=2 in /usr/local/lib/python3.10/dist-packages (from requests->kaggle) (3.2.0)\n",
            "Requirement already satisfied: idna<4,>=2.5 in /usr/local/lib/python3.10/dist-packages (from requests->kaggle) (3.4)\n"
          ]
        }
      ],
      "source": [
        "%pip install kaggle"
      ]
    },
    {
      "cell_type": "markdown",
      "metadata": {
        "id": "774K16OZnxQO"
      },
      "source": [
        "## Configurações Iniciais\n"
      ]
    },
    {
      "cell_type": "code",
      "execution_count": null,
      "metadata": {
        "id": "I0NRq8jOY5bX"
      },
      "outputs": [],
      "source": [
        "# Importando as principais bibliotecas\n",
        "\n",
        "import os\n",
        "import glob\n",
        "\n",
        "import numpy as np\n",
        "from tqdm import tqdm\n",
        "from matplotlib import pyplot as plt\n",
        "from skimage.io import imread, imshow\n",
        "from skimage.transform import resize\n",
        "import tensorflow as tf\n",
        "\n",
        "\n"
      ]
    },
    {
      "cell_type": "code",
      "execution_count": null,
      "metadata": {
        "colab": {
          "base_uri": "https://localhost:8080/"
        },
        "id": "n22r1txMoEl1",
        "outputId": "bddabada-cc60-4127-f5d3-2e7cb13c5f59"
      },
      "outputs": [
        {
          "output_type": "stream",
          "name": "stdout",
          "text": [
            "Mounted at /content/drive\n"
          ]
        }
      ],
      "source": [
        "# Conexão com o drive\n",
        "from google.colab import drive\n",
        "drive.mount('/content/drive')"
      ]
    },
    {
      "cell_type": "code",
      "execution_count": null,
      "metadata": {
        "colab": {
          "base_uri": "https://localhost:8080/"
        },
        "id": "smfLUubhQqZ1",
        "outputId": "ea9ff8b5-5797-43e8-b21b-17ded96b1038"
      },
      "outputs": [
        {
          "output_type": "stream",
          "name": "stdout",
          "text": [
            "Traceback (most recent call last):\n",
            "  File \"/usr/local/bin/kaggle\", line 5, in <module>\n",
            "    from kaggle.cli import main\n",
            "  File \"/usr/local/lib/python3.10/dist-packages/kaggle/__init__.py\", line 23, in <module>\n",
            "    api.authenticate()\n",
            "  File \"/usr/local/lib/python3.10/dist-packages/kaggle/api/kaggle_api_extended.py\", line 403, in authenticate\n",
            "    raise IOError('Could not find {}. Make sure it\\'s located in'\n",
            "OSError: Could not find kaggle.json. Make sure it's located in /root/.kaggle. Or use the environment method.\n"
          ]
        }
      ],
      "source": [
        "# rode essa célula apenas para criar uma pasta no root\n",
        "\n",
        "!kaggle datasets download -d ludmiladias/road-mapper-6classes\n"
      ]
    },
    {
      "cell_type": "code",
      "execution_count": null,
      "metadata": {
        "id": "_w47t8TDOLII"
      },
      "outputs": [],
      "source": [
        "# verificando se a pasta foi criada\n",
        "!find . -iname \".kaggle\""
      ]
    },
    {
      "cell_type": "code",
      "execution_count": null,
      "metadata": {
        "colab": {
          "base_uri": "https://localhost:8080/"
        },
        "id": "_2fmGdWgVWnI",
        "outputId": "74f030fc-8260-4036-e60c-7c54db49a2b9"
      },
      "outputs": [
        {
          "output_type": "stream",
          "name": "stdout",
          "text": [
            "drive  sample_data\n"
          ]
        }
      ],
      "source": [
        "!ls"
      ]
    },
    {
      "cell_type": "code",
      "execution_count": null,
      "metadata": {
        "id": "MnbOYywQ2W9S"
      },
      "outputs": [],
      "source": [
        "# move o arquivo kaggle.json importado\n",
        "!cp /content/drive/MyDrive/ROAD_MAPPER_DNN/kaggle.json ../root/.kaggle/kaggle.json"
      ]
    },
    {
      "cell_type": "code",
      "execution_count": null,
      "metadata": {
        "colab": {
          "base_uri": "https://localhost:8080/"
        },
        "id": "qqGIGpjt0kbr",
        "outputId": "ecb9ea69-60dd-4c53-c159-a605456230ed"
      },
      "outputs": [
        {
          "output_type": "stream",
          "name": "stdout",
          "text": [
            "Downloading road-mapper-6classes.zip to /content\n",
            " 99% 1.49G/1.50G [00:22<00:00, 71.9MB/s]\n",
            "100% 1.50G/1.50G [00:22<00:00, 72.3MB/s]\n",
            "Archive:  road-mapper-6classes.zip\n",
            "  inflating: dataset6classes.csv     \n",
            "  inflating: dataset6classes_teste.csv  \n",
            "  inflating: dataset6classes_teste_mixed.csv  \n"
          ]
        }
      ],
      "source": [
        "# Importar dataset do Kaggle\n",
        "\n",
        "!kaggle datasets download -d ludmiladias/road-mapper-6classes\n",
        "!unzip road-mapper-6classes.zip"
      ]
    },
    {
      "cell_type": "code",
      "execution_count": null,
      "metadata": {
        "id": "3MJ7xjSDZDJZ"
      },
      "outputs": [],
      "source": [
        "# Definição de variaveis iniciais\n",
        "\n",
        "SIZE_X = 128\n",
        "SIZE_Y = 128\n",
        "\n",
        "TRAIN_PATH = 'DATASET/treino/'\n",
        "TEST_PATH_HIGHWAY = 'DATASET/teste/highway/'\n",
        "TEST_PATH_UFES = 'DATASET/teste/ufes/'\n",
        "\n",
        "IMG_CHANNELS = 1\n",
        "NUM_CLASSES = 6 # Número de classes"
      ]
    },
    {
      "cell_type": "markdown",
      "metadata": {
        "id": "V_eTBgMbnxQP"
      },
      "source": [
        "## Tratamento de Dados\n",
        "\n",
        "Pule essa etapa se você já tiver seus dados prontos em um CSV."
      ]
    },
    {
      "cell_type": "markdown",
      "metadata": {
        "id": "mvWxNf_3nxQP"
      },
      "source": [
        "**<font color=\"#62909d\" size=\"5\">Importando os arquivos</font>**\n"
      ]
    },
    {
      "cell_type": "code",
      "execution_count": null,
      "metadata": {
        "id": "ihezR9o-nxQP"
      },
      "outputs": [],
      "source": [
        "# Obter uma lista das subpastas\n",
        "train_ids = next(os.walk(TRAIN_PATH))[1]\n",
        "test_ids_hw = next(os.walk(TEST_PATH_HIGHWAY))[1]\n",
        "test_ids_uf = next(os.walk(TEST_PATH_UFES))[1]"
      ]
    },
    {
      "cell_type": "code",
      "execution_count": null,
      "metadata": {
        "id": "3voZabWAnxQP"
      },
      "outputs": [],
      "source": [
        "X_train = np.zeros((len(train_ids), SIZE_Y, SIZE_X, IMG_CHANNELS), dtype = np.uint8)\n",
        "Y_train = np.zeros((len(train_ids), SIZE_Y, SIZE_X), dtype = np.uint8)\n",
        "\n",
        "\n",
        "X_test = np.zeros((len(test_ids_hw), SIZE_Y, SIZE_X, IMG_CHANNELS), dtype=np.uint8)\n",
        "Y_test = np.zeros((len(test_ids_hw), SIZE_Y, SIZE_X), dtype = np.uint8)\n"
      ]
    },
    {
      "cell_type": "code",
      "execution_count": null,
      "metadata": {
        "id": "e-qxgNa8ZQ_H"
      },
      "outputs": [],
      "source": [
        "# CARREGA IMAGENS PARA ARRAY DE TREINO\n",
        "def imgs_to_array(TRAIN_PATH, type_data):\n",
        "    if type_data == 'I':\n",
        "\n",
        "        for n, id_ in tqdm(enumerate(train_ids), total=len(train_ids)):\n",
        "\n",
        "            path = TRAIN_PATH + id_\n",
        "\n",
        "            # Read the image and keep the first IMG_CHANNELS channels\n",
        "            img = imread(path + '/images/i' + id_ + '.png', 0)\n",
        "\n",
        "            img = cv2.cvtColor(img, cv2.COLOR_BGR2GRAY)\n",
        "\n",
        "            img = np.expand_dims(img, axis=2)\n",
        "\n",
        "            # Resize the image to SIZE_Y x SIZE_X while keeping the pixel values (mode='constant')\n",
        "            img = resize(img, (SIZE_Y, SIZE_X), mode='constant', preserve_range=True)\n",
        "\n",
        "            # Store the processed image into the X_train array at index n\n",
        "            X_train[n]=img\n",
        "\n",
        "        return X_train\n",
        "\n",
        "    elif type_data == 'M':\n",
        "    # Loop through all train_ids\n",
        "        for n, id_ in tqdm(enumerate(train_ids), total=len(train_ids)):\n",
        "\n",
        "            path = TRAIN_PATH + id_\n",
        "\n",
        "            # Read the mask file\n",
        "            mask = imread(path + '/masks/r' + id_ + '.png', 0)\n",
        "\n",
        "            mask = cv2.resize(mask, (SIZE_Y, SIZE_X), interpolation = cv2.INTER_NEAREST)\n",
        "\n",
        "\n",
        "            # Store the processed mask into the Y_train array at index n\n",
        "            Y_train[n] = mask\n",
        "\n",
        "        return Y_train\n",
        "\n",
        "    return []"
      ]
    },
    {
      "cell_type": "code",
      "execution_count": null,
      "metadata": {
        "id": "XQTduuEhnxQQ"
      },
      "outputs": [],
      "source": [
        "image_dataset = imgs_to_array(TRAIN_PATH, type_data='I') # 'I' - Imagens de input\n",
        "mask_dataset = imgs_to_array(TRAIN_PATH, type_data='M') # 'M' - Masks do Ground Truth"
      ]
    },
    {
      "cell_type": "code",
      "execution_count": null,
      "metadata": {
        "id": "ATmJ4QVDnxQQ"
      },
      "outputs": [],
      "source": [
        "# SALVAR ARRAYS DAS IMAGENS\n",
        "\n",
        "import pickle\n",
        "try:\n",
        "    arquivo = open(\"bin/image_dataset.bin\", \"wb\")\n",
        "    pickle.dump(image_dataset, arquivo)\n",
        "    arquivo.close()\n",
        "except:\n",
        "    print(\"Problemas com o arquivo treino.\")\n",
        "\n",
        "try:\n",
        "    arquivo = open(\"bin/mask_dataset.bin\", \"wb\")\n",
        "    pickle.dump(mask_dataset, arquivo)\n",
        "    arquivo.close()\n",
        "except:\n",
        "    print(\"Problemas com o arquivo teste.\")"
      ]
    },
    {
      "cell_type": "code",
      "execution_count": null,
      "metadata": {
        "id": "lCxsZ8FVnxQQ"
      },
      "outputs": [],
      "source": [
        "#  LOAD DOS ARRAYS SALVOS\n",
        "\n",
        "import pickle\n",
        "\n",
        "try:\n",
        "    arquivo = open(\"/kaggle/input/road-mapper-dataset/image_dataset.bin\", \"rb\")\n",
        "    image_dataset = pickle.load(arquivo)\n",
        "    arquivo.close()\n",
        "except:\n",
        "    print(\"Problemas com o arquivo treinox.\")\n",
        "\n",
        "try:\n",
        "    arquivo = open(\"/kaggle/input/road-mapper-dataset/mask_dataset.bin\", \"rb\")\n",
        "    mask_dataset = pickle.load(arquivo)\n",
        "    arquivo.close()\n",
        "except:\n",
        "    print(\"Problemas com o arquivo treinoy.\")"
      ]
    },
    {
      "cell_type": "code",
      "execution_count": null,
      "metadata": {
        "id": "x9JQAbVQX33p"
      },
      "outputs": [],
      "source": [
        "#  LOAD DOS ARRAYS SALVOS\n",
        "\n",
        "import pickle\n",
        "\n",
        "try:\n",
        "    arquivo = open(\"/content/x_train_50k.bin\", \"rb\")\n",
        "    X_train = pickle.load(arquivo)\n",
        "    arquivo.close()\n",
        "except:\n",
        "    print(\"Problemas com o arquivo treinox.\")\n",
        "\n",
        "try:\n",
        "    arquivo = open(\"/content/y_train_50k.bin\", \"rb\")\n",
        "    y_train = pickle.load(arquivo)\n",
        "    arquivo.close()\n",
        "except:\n",
        "    print(\"Problemas com o arquivo treinoy.\")"
      ]
    },
    {
      "cell_type": "markdown",
      "metadata": {
        "id": "Zn4KkfU0nxQQ"
      },
      "source": [
        "**<font color=\"#62909d\" size=\"5\">Encoding</font>**\n"
      ]
    },
    {
      "cell_type": "code",
      "execution_count": null,
      "metadata": {
        "id": "QzAouaVaZoVg"
      },
      "outputs": [],
      "source": [
        "print(\"Image data shape is: \", image_dataset.shape)\n",
        "print(\"Mask data shape is: \", mask_dataset.shape)\n",
        "print(\"Max pixel value in image is: \", image_dataset.max())\n",
        "print(\"Labels in the mask are : \", np.unique(mask_dataset))"
      ]
    },
    {
      "cell_type": "code",
      "execution_count": null,
      "metadata": {
        "collapsed": true,
        "id": "ibHIDZGfZkTh"
      },
      "outputs": [],
      "source": [
        "# Realizar o Label Encoder\n",
        "from sklearn.preprocessing import LabelEncoder\n",
        "labelencoder = LabelEncoder()\n",
        "n, h, w = image_dataset.shape\n",
        "train_masks_reshaped = image_dataset.reshape(-1,1)\n",
        "train_masks_reshaped_encoded = labelencoder.fit_transform(train_masks_reshaped)\n",
        "train_masks_encoded_original_shape = train_masks_reshaped_encoded.reshape(n, h, w)\n",
        "train_masks_input = np.expand_dims(train_masks_encoded_original_shape, axis=3)\n",
        "print(train_masks_input.shape)"
      ]
    },
    {
      "cell_type": "code",
      "execution_count": null,
      "metadata": {
        "id": "IMZPM7edZ4nN"
      },
      "outputs": [],
      "source": [
        "#Dividir dados de treino e teste\n",
        "from sklearn.model_selection import train_test_split\n",
        "X_train, X_test, y_train, y_test = train_test_split(image_dataset, train_masks_input, test_size = 0.2, random_state = 42)"
      ]
    },
    {
      "cell_type": "markdown",
      "metadata": {
        "id": "dXcWeKmgGhq2"
      },
      "source": [
        "## Gerando pesos balanceados"
      ]
    },
    {
      "cell_type": "code",
      "execution_count": null,
      "metadata": {
        "id": "mTQXDRLCnxQQ"
      },
      "outputs": [],
      "source": [
        "import numpy as np\n",
        "import pandas as pd\n",
        "from tqdm import tqdm\n",
        "from keras.utils import normalize\n",
        "import pickle\n",
        "import json"
      ]
    },
    {
      "cell_type": "code",
      "execution_count": null,
      "metadata": {
        "id": "BATmCbbwnxQQ"
      },
      "outputs": [],
      "source": [
        "from sklearn.preprocessing import LabelEncoder\n",
        "def labelencoder(train_masks):\n",
        "    labelencoder = LabelEncoder()\n",
        "    n, h, w, c= train_masks.shape\n",
        "    train_masks_reshaped = train_masks.reshape(-1,1)\n",
        "    train_masks_reshaped_encoded = labelencoder.fit_transform(train_masks_reshaped)\n",
        "    train_masks_encoded_original_shape = train_masks_reshaped_encoded.reshape(n, h, w, c)\n",
        "\n",
        "#     print(\"encoder concluido\")\n",
        "#     return np.expand_dims(train_masks_encoded_original_shape, axis=3)\n",
        "    return train_masks_encoded_original_shape"
      ]
    },
    {
      "cell_type": "code",
      "execution_count": null,
      "metadata": {
        "id": "gF1TZAp5GrG1"
      },
      "outputs": [],
      "source": [
        "# importar bin e fazer processo de normalização com x e expand dims com y\n",
        "def process_data(x, y):\n",
        "\n",
        "    #return (normalize(x, axis=1), labelencoder(y))\n",
        "    return (x, labelencoder(y))\n",
        "\n",
        "def load_csv(Train_df, batch_size, idx=0):\n",
        "\n",
        "    df = pd.read_csv(\n",
        "                  Train_df, skiprows=idx*batch_size,\n",
        "                  nrows=batch_size)\n",
        "\n",
        "    x = []\n",
        "    y = []\n",
        "\n",
        "    for i in range(0, batch_size):\n",
        "        try:\n",
        "            x.append(json.loads(df.iloc[i,0]))\n",
        "            y.append(json.loads(df.iloc[i,1]))\n",
        "        except:\n",
        "            print(\"erro ao ler linha\")\n",
        "            continue\n",
        "\n",
        "    y = np.asarray(y)\n",
        "\n",
        "#     return (np.asarray(x), y.expand_dims(axis=1))\n",
        "    return y\n",
        "\n",
        "\n",
        "def clean(x, y, ex):\n",
        "    if ex<8000:\n",
        "        tst = np.zeros((128,128,1), dtype = np.uint8)\n",
        "        for idx in range(y.shape[0]-1, -1, -1):\n",
        "            if np.all(y[idx] == tst):\n",
        "                y = ea\n",
        "                x = np.delete(x, idx, axis=0)\n",
        "\n",
        "    save_csv('dataset_treino_cleaned_50k.csv', x, y)\n",
        "\n",
        "def save_csv(nome_arq, X, Y):\n",
        "    data = {'X_input': [X.tolist()], 'Y_output': [Y.tolist()]}\n",
        "    df = pd.DataFrame(data)\n",
        "    df.to_csv(nome_arq, index=False, header=False, mode=\"a\")\n",
        "\n",
        "def classes_in_array(dado):\n",
        "    quant_class = np.zeros(17, dtype = np.uint8)\n",
        "    for lin in dado:\n",
        "        for v in lin:\n",
        "            for i in range(17):\n",
        "                if v[0]==i:\n",
        "                    quant_class[i]+=1\n",
        "                    break\n",
        "    return quant_class\n",
        "\n",
        "def plot_classes(dado, n_classe):\n",
        "    img = np.zeros((1,128,128,1), dtype = np.uint8)\n",
        "    for lin, idx in zip(dado, range(128)):\n",
        "        for v, idy in zip(lin, range(128)):\n",
        "            if v[0]==n_classe:\n",
        "                img[0][idx][idy][0] = 255\n",
        "    return img\n",
        "\n",
        "def plot_new_classes(dado, classes):\n",
        "    img = np.zeros((1,128,128,1), dtype = np.uint8)\n",
        "    for lin, idx in zip(dado, range(128)):\n",
        "        for v, idy in zip(lin, range(128)):\n",
        "            for cs,new in zip(classes, range(len(classes))):\n",
        "                if v[0] in cs:\n",
        "                    img[0][idx][idy][0] = new\n",
        "    return img\n",
        "\n",
        "def get_new_classes(dado, classes):\n",
        "    for lin, idx in zip(dado, range(128)):\n",
        "        for v, idy in zip(lin, range(128)):\n",
        "            for cs,new in zip(classes, range(len(classes))):\n",
        "                if v[0] in cs:\n",
        "                    dado[0][idx][idy][0] = new\n",
        "    return dado\n",
        "\n",
        "def save_idx(namearq, file):\n",
        "    try:\n",
        "        arquivo = open(namearq, \"wb\")\n",
        "        pickle.dump(file, arquivo)\n",
        "        arquivo.close()\n",
        "    except:\n",
        "        print(\"Problemas ao salvar arquivo.\")\n",
        "\n",
        "def update_classes(classes, quant_classes):\n",
        "    for i in range(len(quant_classes)):\n",
        "        classes[i]+=quant_classes[i]\n",
        "\n",
        "def classes_dic():\n",
        "    dic = {}\n",
        "    for i in range(17):\n",
        "        dic[i] = 0\n",
        "\n",
        "    return dic"
      ]
    },
    {
      "cell_type": "code",
      "execution_count": null,
      "metadata": {
        "colab": {
          "base_uri": "https://localhost:8080/"
        },
        "id": "sXd5vi9jGtc-",
        "outputId": "1dafdc4e-e330-41b8-df7e-f48bbff8f6ca"
      },
      "outputs": [
        {
          "output_type": "stream",
          "name": "stderr",
          "text": [
            "Processing...:   9%|▉         | 1/11 [04:12<42:06, 252.67s/it]"
          ]
        },
        {
          "output_type": "stream",
          "name": "stdout",
          "text": [
            "{0: 505318, 1: 408532, 2: 452325, 3: 399876, 4: 377909, 5: 500520, 6: 0, 7: 0, 8: 0, 9: 0, 10: 0, 11: 0, 12: 0, 13: 0, 14: 0, 15: 0, 16: 0}\n"
          ]
        },
        {
          "output_type": "stream",
          "name": "stderr",
          "text": [
            "\rProcessing...:  18%|█▊        | 2/11 [08:24<37:47, 251.94s/it]"
          ]
        },
        {
          "output_type": "stream",
          "name": "stdout",
          "text": [
            "{0: 1010332, 1: 811133, 2: 905159, 3: 801112, 4: 764742, 5: 1003650, 6: 0, 7: 0, 8: 0, 9: 0, 10: 0, 11: 0, 12: 0, 13: 0, 14: 0, 15: 0, 16: 0}\n"
          ]
        },
        {
          "output_type": "stream",
          "name": "stderr",
          "text": [
            "\rProcessing...:  27%|██▋       | 3/11 [12:28<33:07, 248.43s/it]"
          ]
        },
        {
          "output_type": "stream",
          "name": "stdout",
          "text": [
            "{0: 1513958, 1: 1212696, 2: 1357444, 3: 1206201, 4: 1154672, 5: 1506645, 6: 0, 7: 0, 8: 0, 9: 0, 10: 0, 11: 0, 12: 0, 13: 0, 14: 0, 15: 0, 16: 0}\n"
          ]
        },
        {
          "output_type": "stream",
          "name": "stderr",
          "text": [
            "\rProcessing...:  36%|███▋      | 4/11 [16:45<29:22, 251.73s/it]"
          ]
        },
        {
          "output_type": "stream",
          "name": "stdout",
          "text": [
            "{0: 2016983, 1: 1612946, 2: 1810688, 3: 1609228, 4: 1537290, 5: 2009217, 6: 0, 7: 0, 8: 0, 9: 0, 10: 0, 11: 0, 12: 0, 13: 0, 14: 0, 15: 0, 16: 0}\n"
          ]
        },
        {
          "output_type": "stream",
          "name": "stderr",
          "text": [
            "\rProcessing...:  45%|████▌     | 5/11 [20:50<24:57, 249.54s/it]"
          ]
        },
        {
          "output_type": "stream",
          "name": "stdout",
          "text": [
            "{0: 2534999, 1: 2014591, 2: 2268826, 3: 2008138, 4: 1910883, 5: 2517987, 6: 0, 7: 0, 8: 0, 9: 0, 10: 0, 11: 0, 12: 0, 13: 0, 14: 0, 15: 0, 16: 0}\n"
          ]
        },
        {
          "output_type": "stream",
          "name": "stderr",
          "text": [
            "\rProcessing...:  55%|█████▍    | 6/11 [25:04<20:53, 250.80s/it]"
          ]
        },
        {
          "output_type": "stream",
          "name": "stdout",
          "text": [
            "{0: 3053140, 1: 2419057, 2: 2725366, 3: 2407801, 4: 2288089, 5: 3018227, 6: 0, 7: 0, 8: 0, 9: 0, 10: 0, 11: 0, 12: 0, 13: 0, 14: 0, 15: 0, 16: 0}\n"
          ]
        },
        {
          "output_type": "stream",
          "name": "stderr",
          "text": [
            "\rProcessing...:  64%|██████▎   | 7/11 [29:16<16:45, 251.48s/it]"
          ]
        },
        {
          "output_type": "stream",
          "name": "stdout",
          "text": [
            "{0: 3575559, 1: 2826146, 2: 3183460, 3: 2807879, 4: 2672414, 5: 3521934, 6: 0, 7: 0, 8: 0, 9: 0, 10: 0, 11: 0, 12: 0, 13: 0, 14: 0, 15: 0, 16: 0}\n"
          ]
        },
        {
          "output_type": "stream",
          "name": "stderr",
          "text": [
            "\rProcessing...:  73%|███████▎  | 8/11 [33:29<12:35, 251.79s/it]"
          ]
        },
        {
          "output_type": "stream",
          "name": "stdout",
          "text": [
            "{0: 4088943, 1: 3224058, 2: 3641961, 3: 3209384, 4: 3061478, 5: 4026528, 6: 0, 7: 0, 8: 0, 9: 0, 10: 0, 11: 0, 12: 0, 13: 0, 14: 0, 15: 0, 16: 0}\n"
          ]
        },
        {
          "output_type": "stream",
          "name": "stderr",
          "text": [
            "\rProcessing...:  82%|████████▏ | 9/11 [37:47<08:27, 253.79s/it]"
          ]
        },
        {
          "output_type": "stream",
          "name": "stdout",
          "text": [
            "{0: 4604059, 1: 3634782, 2: 4101772, 3: 3612454, 4: 3442967, 5: 4526398, 6: 0, 7: 0, 8: 0, 9: 0, 10: 0, 11: 0, 12: 0, 13: 0, 14: 0, 15: 0, 16: 0}\n"
          ]
        },
        {
          "output_type": "stream",
          "name": "stderr",
          "text": [
            "\rProcessing...:  91%|█████████ | 10/11 [42:01<04:13, 253.79s/it]"
          ]
        },
        {
          "output_type": "stream",
          "name": "stdout",
          "text": [
            "{0: 5118769, 1: 4037902, 2: 4563822, 3: 4018010, 4: 3819184, 5: 5025097, 6: 0, 7: 0, 8: 0, 9: 0, 10: 0, 11: 0, 12: 0, 13: 0, 14: 0, 15: 0, 16: 0}\n"
          ]
        },
        {
          "output_type": "stream",
          "name": "stderr",
          "text": [
            "Processing...: 100%|██████████| 11/11 [46:21<00:00, 252.87s/it]"
          ]
        },
        {
          "output_type": "stream",
          "name": "stdout",
          "text": [
            "{0: 5637283, 1: 4437575, 2: 5025976, 3: 4420648, 4: 4194830, 5: 5531176, 6: 0, 7: 0, 8: 0, 9: 0, 10: 0, 11: 0, 12: 0, 13: 0, 14: 0, 15: 0, 16: 0}\n",
            "concluido\n"
          ]
        },
        {
          "output_type": "stream",
          "name": "stderr",
          "text": [
            "\n"
          ]
        }
      ],
      "source": [
        "\n",
        "# GET DADOS P/ CALCULAR PESOS\n",
        "classes = classes_dic()\n",
        "tam_lote = 3584\n",
        "total = 39424\n",
        "n_lotes = total//tam_lote\n",
        "y = []\n",
        "Train_df = '/content/dataset6classes.csv'\n",
        "\n",
        "for n in tqdm(range(0, n_lotes), desc=\"Processing...\"):\n",
        "    dadoy = load_csv(Train_df, tam_lote, idx=n)\n",
        "    for dado in dadoy: # dado = array de uma imagem\n",
        "      quant_classes = classes_in_array(dado)\n",
        "      update_classes(classes, quant_classes)\n",
        "    print(classes)\n",
        "\n",
        "print('concluido')\n",
        "\n"
      ]
    },
    {
      "cell_type": "code",
      "source": [
        "for i in range(6,17):\n",
        "  classes.pop(i)"
      ],
      "metadata": {
        "id": "P1oAV_jKWU4o"
      },
      "execution_count": null,
      "outputs": []
    },
    {
      "cell_type": "code",
      "execution_count": null,
      "metadata": {
        "colab": {
          "base_uri": "https://localhost:8080/"
        },
        "id": "kHQfGvWAP9BF",
        "outputId": "b88a51a2-552f-46dc-8f24-c56e90649d96"
      },
      "outputs": [
        {
          "output_type": "stream",
          "name": "stdout",
          "text": [
            "Class weights are...: [19.09675328818274, 24.259601847104932, 21.419482040237888, 24.352493721885722, 25.66344826051751, 19.46309476803245]\n"
          ]
        }
      ],
      "source": [
        "# Calculo dos pesos das classes\n",
        "n_classes = 6\n",
        "class_weights = []\n",
        "\n",
        "for i in range(n_classes):\n",
        "  valor_classe = (total*128*128)/(n_classes*classes[i])\n",
        "  class_weights.append(valor_classe)\n",
        "\n",
        "print(\"Class weights are...:\", class_weights)"
      ]
    },
    {
      "cell_type": "code",
      "execution_count": null,
      "metadata": {
        "id": "w5aDbWY-J7k_"
      },
      "outputs": [],
      "source": [
        "import json\n",
        "def save_file_json(name, data):\n",
        "\n",
        "  with open(name, 'w') as f:\n",
        "      json.dump(data, f)\n",
        "\n"
      ]
    },
    {
      "cell_type": "code",
      "execution_count": null,
      "metadata": {
        "id": "AYFM5Ku-J8UI"
      },
      "outputs": [],
      "source": [
        "\n",
        "save_file_json('/content/drive/MyDrive/Lume/road_mapper_dnn/weights_6classes.json', class_weights)"
      ]
    },
    {
      "cell_type": "markdown",
      "metadata": {
        "id": "qPjge88iXtou"
      },
      "source": [
        "## Gerando Dataset com Novas Classes"
      ]
    },
    {
      "cell_type": "code",
      "execution_count": null,
      "metadata": {
        "id": "MqTY5r3gX3ez"
      },
      "outputs": [],
      "source": [
        "import json\n",
        "from tensorflow.keras.utils import to_categorical\n",
        "import pandas as pd\n",
        "import numpy as np\n",
        "from keras.utils import normalize\n",
        "\n",
        "\n",
        "def test_data_generator(pos_ini, mode):\n",
        "  test_df = \"/content/train_cleaned.csv\"\n",
        "\n",
        "  df = pd.read_csv(\n",
        "                    test_df, skiprows=pos_ini, nrows=1)\n",
        "  n_classes=6\n",
        "  x = []\n",
        "  y = []\n",
        "  for i in range(0, len(df)):\n",
        "      x.append(json.loads(df.iloc[i,0]))\n",
        "      y.append(json.loads(df.iloc[i,1]))\n",
        "\n",
        "  if mode=='x':\n",
        "    x = normalize(x, axis=1)\n",
        "    return np.asarray(x)\n",
        "  elif mode=='y':\n",
        "    return np.asarray(y)\n",
        "\n",
        "  return None"
      ]
    },
    {
      "cell_type": "code",
      "execution_count": null,
      "metadata": {
        "id": "xZhY206vX6lC"
      },
      "outputs": [],
      "source": [
        "# NEW CSV classes\n",
        "import random\n",
        "random.seed(42)\n",
        "num_imgs = 49622\n",
        "\n",
        "\n",
        "classes = [[0], [1,2,3,4],[5, 6],[7,8,9, 10],[11, 12],[13,14,15,16]]\n",
        "\n",
        "for i in range(num_imgs):\n",
        "    Y_test = test_data_generator(i, 'y')\n",
        "    X_test = test_data_generator(i, 'x')\n",
        "    newY = get_new_classes(Y_test[0],classes)\n",
        "    save_csv('dataset6classes.csv', X_test[0], newY[0])\n",
        "\n",
        "\n",
        "print('concluido')"
      ]
    },
    {
      "cell_type": "markdown",
      "metadata": {
        "id": "Iz0AX5TdnxQQ"
      },
      "source": [
        "**<font color=\"#62909d\" size=\"5\">Salvar arquivo como CSV</font>**\n"
      ]
    },
    {
      "cell_type": "code",
      "execution_count": null,
      "metadata": {
        "collapsed": true,
        "id": "084YJ6rBnxQR"
      },
      "outputs": [],
      "source": [
        "import csv\n",
        "import pandas as pd\n",
        "\n",
        "def salvar_csv(X, Y, file_name):\n",
        "    # Criar um DataFrame com os arrays\n",
        "    data = {'X_input': X.tolist(), 'Y_output': Y.tolist()}\n",
        "    df = pd.DataFrame(data)\n",
        "    df.to_csv(file_name, index=False, mode=\"a\")"
      ]
    },
    {
      "cell_type": "code",
      "execution_count": null,
      "metadata": {
        "colab": {
          "base_uri": "https://localhost:8080/"
        },
        "id": "Lk1sY7XUnxQR",
        "outputId": "3ece5d4f-22a5-4b65-c579-0a21e572b487"
      },
      "outputs": [
        {
          "name": "stdout",
          "output_type": "stream",
          "text": [
            "0\n"
          ]
        }
      ],
      "source": [
        "# Para salvar arquivo grande em partes\n",
        "for i in range(0,1):\n",
        "    print(i)\n",
        "    salvar_csv(X_train[(i*100):((i+1)*100)], y_train[(i*100):((i+1)*100)], 'train_data50.csv') # arquivo de treino"
      ]
    },
    {
      "cell_type": "code",
      "execution_count": null,
      "metadata": {
        "id": "WBPkj8FMnxQR"
      },
      "outputs": [],
      "source": [
        "for j in range(0,2):\n",
        "    print(j)\n",
        "    salvar_csv(X_test[(j*5000):((j+1)*5000)], Y_test[(j*5000):((j+1)*5000)], 'test_data50.csv') # arquivo de teste"
      ]
    },
    {
      "cell_type": "code",
      "execution_count": null,
      "metadata": {
        "id": "Yh2fI72laFn1"
      },
      "outputs": [],
      "source": [
        "# Link para download dos arquivos\n",
        "from IPython.display import FileLink, FileLinks\n",
        "display(FileLink('train_data.csv'))\n",
        "display(FileLink('test_data.csv'))\n"
      ]
    },
    {
      "cell_type": "markdown",
      "metadata": {
        "id": "vr6nLjeknxQR"
      },
      "source": [
        "## Configurações do Modelo"
      ]
    },
    {
      "cell_type": "markdown",
      "metadata": {
        "id": "jwrmbu_UnxQR"
      },
      "source": [
        "**<font color=\"#62909d\" size=\"5\">Modelo 1 - Original U-NET</font>**"
      ]
    },
    {
      "cell_type": "code",
      "execution_count": null,
      "metadata": {
        "id": "WlT22rBCnxQR"
      },
      "outputs": [],
      "source": [
        "# Criando uma função para um convolution block\n",
        "def conv_block(inputs, num_filters):\n",
        "    x = tf.keras.layers.Conv2D(num_filters, (3, 3), activation=\"relu\",\n",
        "                               kernel_initializer=\"he_normal\", padding=\"same\")(inputs)\n",
        "    x = tf.keras.layers.Dropout(0.1)(x)\n",
        "    x = tf.keras.layers.Conv2D(num_filters, (3, 3), activation=\"relu\",\n",
        "                               kernel_initializer=\"he_normal\", padding=\"same\")(x)\n",
        "    x = tf.keras.layers.BatchNormalization()(x)\n",
        "\n",
        "    return x\n",
        "\n",
        "# Criando a função para o expanding path\n",
        "def upsample_block(inputs, conv_prev, num_filters):\n",
        "    up = tf.keras.layers.Conv2DTranspose(num_filters, (2, 2), strides=(2, 2), padding=\"same\")(inputs)\n",
        "    concat = tf.keras.layers.concatenate([up, conv_prev])\n",
        "    conv = conv_block(concat, num_filters)\n",
        "    return conv\n"
      ]
    },
    {
      "cell_type": "code",
      "execution_count": null,
      "metadata": {
        "id": "7gIOu-BFnxQR"
      },
      "outputs": [],
      "source": [
        "import tensorflow as tf\n",
        "\n",
        "# Inputs\n",
        "inputs = tf.keras.layers.Input((SIZE_X, SIZE_Y, IMG_CHANNELS))\n",
        "\n",
        "# Normalização\n",
        "s = tf.keras.layers.Lambda(lambda x: x/255.0)(inputs)\n",
        "\n",
        "# Contraction path\n",
        "c1 = conv_block(s, 16)\n",
        "p1 = tf.keras.layers.MaxPooling2D((2, 2))(c1)\n",
        "\n",
        "c2 = conv_block(p1, 32)\n",
        "p2 = tf.keras.layers.MaxPooling2D((2, 2))(c2)\n",
        "\n",
        "c3 = conv_block(p2, 64)\n",
        "p3 = tf.keras.layers.MaxPooling2D((2, 2))(c3)\n",
        "\n",
        "c4 = conv_block(p3, 128)\n",
        "p4 = tf.keras.layers.MaxPooling2D((2, 2))(c4)\n",
        "\n",
        "c5 = conv_block(p4, 256)\n",
        "\n",
        "# Expansive path\n",
        "c6 = upsample_block(c5, c4, 128)\n",
        "c7 = upsample_block(c6, c3, 64)\n",
        "c8 = upsample_block(c7, c2, 32)\n",
        "c9 = upsample_block(c8, c1, 16)\n",
        "\n",
        "# Output layer\n",
        "\n",
        "outputs = tf.keras.layers.Conv2D(NUM_CLASSES, (1, 1), activation='softmax')(c9)"
      ]
    },
    {
      "cell_type": "code",
      "execution_count": null,
      "metadata": {
        "id": "HcQp3wxCaTZw"
      },
      "outputs": [],
      "source": [
        "model = tf.keras.Model(inputs=[inputs], outputs=[outputs], name=\"U-Net\")\n",
        "# Compilação\n",
        "opt = tf.keras.optimizers.Adam(learning_rate=0.005)\n",
        "model.compile(optimizer=opt, loss='categorical_crossentropy', metrics=['categorical_accuracy'])\n",
        "model.save('multiclass_road_mapper')\n",
        "model.summary()"
      ]
    },
    {
      "cell_type": "markdown",
      "metadata": {
        "id": "qpaqEW9XnxQR"
      },
      "source": [
        "\n",
        "**<font color=\"#62909d\" size=\"5\">Modelo 2 - Custom U-NET</font>**\n",
        "<br>**Modelo sendo utilizado no momento**"
      ]
    },
    {
      "cell_type": "code",
      "execution_count": null,
      "metadata": {
        "colab": {
          "base_uri": "https://localhost:8080/"
        },
        "id": "utEdw0hInxQR",
        "outputId": "e12754e8-abb5-43ee-f2fb-0b876a8ea805"
      },
      "outputs": [
        {
          "output_type": "stream",
          "name": "stdout",
          "text": [
            "Collecting keras_unet\n",
            "  Downloading keras_unet-0.1.2-py3-none-any.whl (16 kB)\n",
            "Installing collected packages: keras_unet\n",
            "Successfully installed keras_unet-0.1.2\n"
          ]
        }
      ],
      "source": [
        "!pip install keras_unet"
      ]
    },
    {
      "cell_type": "code",
      "execution_count": null,
      "metadata": {
        "colab": {
          "base_uri": "https://localhost:8080/"
        },
        "id": "W3k9orHznxQR",
        "outputId": "f748c3e0-79b3-46ed-eda6-4f3bea81d304"
      },
      "outputs": [
        {
          "output_type": "stream",
          "name": "stdout",
          "text": [
            "-----------------------------------------\n",
            "keras-unet init: TF version is >= 2.0.0 - using `tf.keras` instead of `Keras`\n",
            "-----------------------------------------\n"
          ]
        }
      ],
      "source": [
        "from keras_unet.models import custom_unet\n",
        "\n",
        "def get_customunet():\n",
        "  model = custom_unet(\n",
        "      input_shape=(128, 128, 1),\n",
        "      use_batch_norm=True,\n",
        "      num_classes=6,\n",
        "      filters=16,\n",
        "      dropout=0.2,\n",
        "      output_activation='softmax')\n",
        "  print(model.summary())\n",
        "  return model"
      ]
    },
    {
      "cell_type": "markdown",
      "metadata": {
        "id": "xfhhl4omnxQR"
      },
      "source": [
        "\n",
        "**<font color=\"#62909d\" size=\"5\">Compilando o Modelo</font>**"
      ]
    },
    {
      "cell_type": "code",
      "execution_count": null,
      "metadata": {
        "id": "p0bcq-HOOT92"
      },
      "outputs": [],
      "source": [
        "from keras.losses import binary_crossentropy\n",
        "import keras.backend as K\n",
        "import tensorflow as tf\n",
        "\n",
        "epsilon = 1e-5\n",
        "smooth = 1\n",
        "\n",
        "\n",
        "def tversky(y_true, y_pred):\n",
        "    y_true_pos = K.flatten(y_true)\n",
        "    y_pred_pos = K.flatten(y_pred)\n",
        "    true_pos = K.sum(y_true_pos * y_pred_pos)\n",
        "    false_neg = K.sum(y_true_pos * (1-y_pred_pos))\n",
        "    false_pos = K.sum((1-y_true_pos)*y_pred_pos)\n",
        "    alpha = 0.7\n",
        "    return (true_pos + smooth)/(true_pos + alpha*false_neg + (1-alpha)*false_pos + smooth)\n",
        "\n",
        "def tversky_loss(y_true, y_pred):\n",
        "    return 1 - tversky(y_true,y_pred)\n",
        "\n",
        "def focal_tversky(y_true,y_pred):\n",
        "    pt_1 = tversky(y_true, y_pred)\n",
        "    gamma = 0.75\n",
        "    return K.pow((1-pt_1), gamma)"
      ]
    },
    {
      "cell_type": "code",
      "execution_count": null,
      "metadata": {
        "id": "pWAdW8hGjiDo"
      },
      "outputs": [],
      "source": [
        "from keras import backend as K\n",
        "\n",
        "def IoU_coef(y_true, y_pred):\n",
        "  T = K.flatten(y_true)\n",
        "  P = K.flatten(y_pred)\n",
        "\n",
        "  intersection = K.sum(T *P)\n",
        "  IoU = (intersection + 1.0) / (K.sum(T) + K.sum(P) - intersection +1.0)\n",
        "  return IoU\n",
        "\n",
        "def IoU_loss(y_true, y_pred):\n",
        "  return -IoU_coef(y_true, y_pred)"
      ]
    },
    {
      "cell_type": "code",
      "source": [
        "from keras import backend as K\n",
        "\n",
        "def f1_score(y_true, y_pred): #taken from old keras source code\n",
        "    true_positives = K.sum(K.round(K.clip(y_true * y_pred, 0, 1)))\n",
        "    possible_positives = K.sum(K.round(K.clip(y_true, 0, 1)))\n",
        "    predicted_positives = K.sum(K.round(K.clip(y_pred, 0, 1)))\n",
        "    precision = true_positives / (predicted_positives + K.epsilon())\n",
        "    recall = true_positives / (possible_positives + K.epsilon())\n",
        "    f1_val = 2*(precision*recall)/(precision+recall+K.epsilon())\n",
        "    return f1_val"
      ],
      "metadata": {
        "id": "7rzuuo54KFiA"
      },
      "execution_count": null,
      "outputs": []
    },
    {
      "cell_type": "code",
      "execution_count": null,
      "metadata": {
        "id": "mtaz_WuVnxQX"
      },
      "outputs": [],
      "source": [
        "# LOSS DISPONÍVEIS PARA USO\n",
        "# IoU_loss (X)\n",
        "# categorical_focal_crossentropy (v)\n",
        "# tversky_loss (X)\n",
        "\n",
        "# Carregando o modelo\n",
        "from keras.models import load_model\n",
        "from sklearn.utils import class_weight\n",
        "\n",
        "def load_new_model(nomeModelo):\n",
        "    model = load_model(nomeModelo)\n",
        "    # model=get_customunet()\n",
        "    model.load_weights(nomeModelo)\n",
        "    # nome_salvar_modelo = '/content/drive/MyDrive/ROAD_MAPPER_DNN/TREINOS/new_train_road_mapper_0611_2.keras'\n",
        "\n",
        "    #optimizer=tfa.optimizers.RectifiedAdam(lr=1e-3)\n",
        "    # loss = tf.keras.losses.SparseCategoricalCrossentropy()\n",
        "\n",
        "    opt = tf.keras.optimizers.Adam(learning_rate=1e-3)\n",
        "\n",
        "    tf.keras.losses.CategoricalFocalCrossentropy(\n",
        "      alpha=0.25,\n",
        "      gamma=2.0,\n",
        "      from_logits=False,\n",
        "      label_smoothing=0.0,\n",
        "      axis=-1,\n",
        "      reduction= tf.keras.losses.Reduction.AUTO,\n",
        "      name='categorical_focal_crossentropy'\n",
        ")\n",
        "\n",
        "    model.compile(optimizer=opt, loss='categorical_focal_crossentropy', metrics=['categorical_accuracy', IoU_coef, f1_score])\n",
        "    # model.save(nome_salvar_modelo)\n",
        "\n",
        "    return model"
      ]
    },
    {
      "cell_type": "code",
      "execution_count": null,
      "metadata": {
        "id": "AIBDSHD9RgFc"
      },
      "outputs": [],
      "source": [
        "# Compilar e Salvar modelo\n",
        "def get_model():\n",
        "  model=get_customunet()\n",
        "\n",
        "  # nome_salvar_modelo = '/content/drive/MyDrive/ROAD_MAPPER_DNN/TREINOS/new_train_road_mapper_0611.keras'\n",
        "\n",
        "  opt = tf.keras.optimizers.Adam(learning_rate=1e-3)\n",
        "\n",
        "  tf.keras.losses.CategoricalFocalCrossentropy(\n",
        "      alpha=0.25,\n",
        "      gamma=2.0,\n",
        "      from_logits=False,\n",
        "      label_smoothing=0.0,\n",
        "      axis=-1,\n",
        "      reduction= tf.keras.losses.Reduction.AUTO,\n",
        "      name='categorical_focal_crossentropy'\n",
        "  )\n",
        "\n",
        "  iou = tf.keras.metrics.MeanIoU(num_classes=6)\n",
        "  model.compile(optimizer=opt, loss='categorical_focal_crossentropy', metrics=['categorical_accuracy', iou])\n",
        "  # model.save(nome_salvar_modelo)\n",
        "  return model"
      ]
    },
    {
      "cell_type": "code",
      "execution_count": null,
      "metadata": {
        "id": "ISpEzEtRnxQS"
      },
      "outputs": [],
      "source": [
        "# # Compilar e Salvar modelo\n",
        "# nome_salvar_modelo = '/content/drive/MyDrive/Lume/road_mapper_dnn/multiclass_road_mapper_customunet_10'\n",
        "\n",
        "# opt = tf.keras.optimizers.Adam(learning_rate=0.0015)\n",
        "# model.compile(optimizer=opt, loss='categorical_crossentropy', metrics=['categorical_accuracy'])\n",
        "# model.save(nome_salvar_modelo)"
      ]
    },
    {
      "cell_type": "markdown",
      "source": [
        "## Batch Generator"
      ],
      "metadata": {
        "id": "KAIISFGb3Sjh"
      }
    },
    {
      "cell_type": "code",
      "execution_count": null,
      "metadata": {
        "id": "zm-O2ibJ1xYI"
      },
      "outputs": [],
      "source": [
        "import requests\n",
        "import time\n",
        "\n",
        "def avoid_inactivity():\n",
        "    try:\n",
        "        requests.get('https://www.google.com')\n",
        "        return False\n",
        "    except:\n",
        "        return True"
      ]
    },
    {
      "cell_type": "code",
      "execution_count": null,
      "metadata": {
        "id": "Yqe4T-0rnxQY"
      },
      "outputs": [],
      "source": [
        "from tensorflow.keras.utils import to_categorical\n",
        "import json\n",
        "from keras.utils import normalize\n",
        "\n",
        "import pandas as pd\n",
        "\n",
        "def batch_generator(Train_df,batch_size,\n",
        "                    steps, skiprows):\n",
        "    idx=1\n",
        "    while True:\n",
        "        yield load_data(Train_df,idx-1,batch_size, skiprows[idx-1])## Yields data\n",
        "        if idx<steps:\n",
        "            idx+=1\n",
        "        else:\n",
        "            idx=1\n",
        "        avoid_inactivity()\n",
        "\n",
        "def load_data(Train_df,idx,\n",
        "              batch_size, sr):\n",
        "    n_classes = 6\n",
        "\n",
        "    df = pd.read_csv(\n",
        "                  Train_df, skiprows=sr,\n",
        "                  nrows=batch_size)\n",
        "\n",
        "    x = []\n",
        "    y = []\n",
        "\n",
        "    for i in range(0, batch_size):\n",
        "        x.append(json.loads(df.iloc[i,0]))\n",
        "        y.append(json.loads(df.iloc[i,1]))\n",
        "\n",
        "    y = np.asarray(y)\n",
        "    x = np.asarray(x)\n",
        "\n",
        "    train_masks_cat = to_categorical(y, num_classes=n_classes)\n",
        "    y = train_masks_cat.reshape((y.shape[0], y.shape[1], y.shape[2], n_classes))\n",
        "    x = normalize(x, axis=1)\n",
        "\n",
        "\n",
        "    return (x, y)"
      ]
    },
    {
      "cell_type": "code",
      "execution_count": null,
      "metadata": {
        "id": "6TW12PljXtaW"
      },
      "outputs": [],
      "source": [
        "def getsteps(total_dados, batch_size):\n",
        "  print((total_dados//batch_size)*batch_size)\n",
        "  return total_dados//batch_size"
      ]
    },
    {
      "cell_type": "code",
      "execution_count": null,
      "metadata": {
        "colab": {
          "base_uri": "https://localhost:8080/"
        },
        "id": "q6HZOGsinxQY",
        "outputId": "17983cf7-2680-43bd-8bc6-da00d25f6cd6"
      },
      "outputs": [
        {
          "output_type": "stream",
          "name": "stdout",
          "text": [
            "39424\n",
            "9984\n"
          ]
        }
      ],
      "source": [
        "import numpy as np\n",
        "import random\n",
        "\n",
        "from keras.models import Sequential\n",
        "from keras.layers import Dense, Activation\n",
        "quant_train = 39424\n",
        "quant_test = 9984\n",
        "batch_size = 256\n",
        "nb_epoch = 50\n",
        "skiprows = []\n",
        "\n",
        "# Objetos gerados para treino e validação\n",
        "steps_per_epoch=np.ceil(getsteps(quant_train,batch_size))\n",
        "validation_steps=np.ceil(getsteps(quant_test,batch_size))\n",
        "\n",
        "total_dados = quant_test + quant_train\n",
        "for sr in range(0, total_dados, batch_size):\n",
        "  skiprows.append(sr)\n",
        "\n",
        "# random.shuffle(skiprows)\n",
        "\n",
        "my_training_batch_generator = batch_generator('/content/dataset6classes.csv', batch_size,steps_per_epoch, skiprows[0:int(steps_per_epoch)])##\n",
        "my_validation_batch_generator = batch_generator('/content/dataset6classes.csv', batch_size,validation_steps, skiprows[int(steps_per_epoch):])##"
      ]
    },
    {
      "cell_type": "markdown",
      "metadata": {
        "id": "ROj8Q3TrnxQY"
      },
      "source": [
        "## Treinamento padrão"
      ]
    },
    {
      "cell_type": "code",
      "execution_count": null,
      "metadata": {
        "id": "1PHfNkZrnxQY"
      },
      "outputs": [],
      "source": [
        "# Model Checkpoint e Early Stopping\n",
        "# https://github.com/luddias/DeepLearning-About/blob/main/checkpointing.md\n",
        "# https://github.com/luddias/DeepLearning-About/blob/main/early_stoping.md\n",
        "\n",
        "from tensorflow.keras.callbacks import ModelCheckpoint, EarlyStopping, ReduceLROnPlateau\n",
        "def get_checkpoint(filepath):\n",
        "  checkpoint = ModelCheckpoint(filepath, monitor='val_categorical_accuracy', verbose=1, save_best_only=True, mode='max')\n",
        "  es = EarlyStopping(monitor='val_categorical_accuracy', patience=5)\n",
        "  reduce_lr = ReduceLROnPlateau(monitor='val_categorical_accuracy', factor=0.5, patience=2, mode='max')\n",
        "  return [checkpoint, es, reduce_lr]\n"
      ]
    },
    {
      "cell_type": "code",
      "source": [
        "callbacks_list = get_checkpoint('/content/drive/MyDrive/Lume/road_mapper_dnn/T_121223_6classes/model_checkpoint_121223')"
      ],
      "metadata": {
        "id": "YwGruyuFOvEH"
      },
      "execution_count": null,
      "outputs": []
    },
    {
      "cell_type": "code",
      "execution_count": null,
      "metadata": {
        "id": "kC5hGH8-gcuu"
      },
      "outputs": [],
      "source": [
        "import json\n",
        "\n",
        "def load_file_json(name):\n",
        "    with open(name, 'r') as f:\n",
        "        return json.load(f)\n"
      ]
    },
    {
      "cell_type": "code",
      "execution_count": null,
      "metadata": {
        "colab": {
          "base_uri": "https://localhost:8080/"
        },
        "id": "2-k2rgNkhCZh",
        "outputId": "723a84e4-8ebe-4f63-82af-a72cf8c9f981"
      },
      "outputs": [
        {
          "output_type": "execute_result",
          "data": {
            "text/plain": [
              "{0: 19.09675328818274,\n",
              " 1: 24.259601847104932,\n",
              " 2: 21.419482040237888,\n",
              " 3: 24.352493721885722,\n",
              " 4: 25.66344826051751,\n",
              " 5: 19.46309476803245}"
            ]
          },
          "metadata": {},
          "execution_count": 18
        }
      ],
      "source": [
        "lw = load_file_json('/content/drive/MyDrive/Lume/road_mapper_dnn/weights_6classes.json')\n",
        "class_weights = {}\n",
        "\n",
        "for i in range(len(lw)):\n",
        "  class_weights[i] = lw[i]\n",
        "\n",
        "class_weights"
      ]
    },
    {
      "cell_type": "code",
      "execution_count": null,
      "metadata": {
        "id": "uAkT0aaatLii"
      },
      "outputs": [],
      "source": [
        "import os\n",
        "import json\n",
        "\n",
        "from keras.models import load_model\n",
        "\n",
        "import tensorflow as tf\n",
        "\n",
        "strategy = tf.distribute.MirroredStrategy()\n",
        "\n",
        "with strategy.scope():\n",
        "    # multi_worker_model= get_model()\n",
        "    # multi_worker_model= load_model('/content/drive/MyDrive/Lume/road_mapper_dnn/T_111223_6classes/kfold_checkpoint_model_0612', compile=True)\n",
        "    multi_worker_model= load_new_model('/content/drive/MyDrive/Lume/road_mapper_dnn/T_111223_6classes/checkpoint_model_111223')\n"
      ]
    },
    {
      "cell_type": "code",
      "execution_count": null,
      "metadata": {
        "colab": {
          "base_uri": "https://localhost:8080/"
        },
        "id": "LmcYufmuaeUz",
        "outputId": "99d22d6a-cc34-46c0-bd31-7507c57e0709"
      },
      "outputs": [
        {
          "output_type": "stream",
          "name": "stdout",
          "text": [
            "Epoch 1/50\n",
            "154/154 [==============================] - ETA: 0s - loss: 0.0104 - categorical_accuracy: 0.9434 - IoU_coef: 0.7759 - f1_score: 0.9424 \n",
            "Epoch 1: val_categorical_accuracy improved from -inf to 0.93689, saving model to /content/drive/MyDrive/Lume/road_mapper_dnn/T_121223_6classes/model_checkpoint_121223\n",
            "154/154 [==============================] - 3502s 22s/step - loss: 0.0104 - categorical_accuracy: 0.9434 - IoU_coef: 0.7759 - f1_score: 0.9424 - val_loss: 0.0123 - val_categorical_accuracy: 0.9369 - val_IoU_coef: 0.7606 - val_f1_score: 0.9359 - lr: 0.0010\n",
            "Epoch 2/50\n",
            "154/154 [==============================] - ETA: 0s - loss: 0.0102 - categorical_accuracy: 0.9443 - IoU_coef: 0.7759 - f1_score: 0.9432 \n",
            "Epoch 2: val_categorical_accuracy improved from 0.93689 to 0.93714, saving model to /content/drive/MyDrive/Lume/road_mapper_dnn/T_121223_6classes/model_checkpoint_121223\n",
            "154/154 [==============================] - 3487s 23s/step - loss: 0.0102 - categorical_accuracy: 0.9443 - IoU_coef: 0.7759 - f1_score: 0.9432 - val_loss: 0.0122 - val_categorical_accuracy: 0.9371 - val_IoU_coef: 0.7629 - val_f1_score: 0.9361 - lr: 0.0010\n",
            "Epoch 3/50\n",
            "154/154 [==============================] - ETA: 0s - loss: 0.0103 - categorical_accuracy: 0.9440 - IoU_coef: 0.7754 - f1_score: 0.9429 \n",
            "Epoch 3: val_categorical_accuracy did not improve from 0.93714\n",
            "154/154 [==============================] - 3573s 23s/step - loss: 0.0103 - categorical_accuracy: 0.9440 - IoU_coef: 0.7754 - f1_score: 0.9429 - val_loss: 0.0125 - val_categorical_accuracy: 0.9356 - val_IoU_coef: 0.7596 - val_f1_score: 0.9344 - lr: 0.0010\n",
            "Epoch 4/50\n",
            "154/154 [==============================] - ETA: 0s - loss: 0.0102 - categorical_accuracy: 0.9442 - IoU_coef: 0.7759 - f1_score: 0.9431 \n",
            "Epoch 4: val_categorical_accuracy improved from 0.93714 to 0.93750, saving model to /content/drive/MyDrive/Lume/road_mapper_dnn/T_121223_6classes/model_checkpoint_121223\n",
            "154/154 [==============================] - 3687s 24s/step - loss: 0.0102 - categorical_accuracy: 0.9442 - IoU_coef: 0.7759 - f1_score: 0.9431 - val_loss: 0.0120 - val_categorical_accuracy: 0.9375 - val_IoU_coef: 0.7618 - val_f1_score: 0.9365 - lr: 0.0010\n",
            "Epoch 5/50\n",
            "154/154 [==============================] - ETA: 0s - loss: 0.0103 - categorical_accuracy: 0.9437 - IoU_coef: 0.7757 - f1_score: 0.9426 \n",
            "Epoch 5: val_categorical_accuracy did not improve from 0.93750\n",
            "154/154 [==============================] - 3708s 24s/step - loss: 0.0103 - categorical_accuracy: 0.9437 - IoU_coef: 0.7757 - f1_score: 0.9426 - val_loss: 0.0127 - val_categorical_accuracy: 0.9342 - val_IoU_coef: 0.7609 - val_f1_score: 0.9334 - lr: 0.0010\n",
            "Epoch 6/50\n",
            "154/154 [==============================] - ETA: 0s - loss: 0.0101 - categorical_accuracy: 0.9442 - IoU_coef: 0.7774 - f1_score: 0.9431 \n",
            "Epoch 6: val_categorical_accuracy did not improve from 0.93750\n",
            "154/154 [==============================] - 3628s 24s/step - loss: 0.0101 - categorical_accuracy: 0.9442 - IoU_coef: 0.7774 - f1_score: 0.9431 - val_loss: 0.0122 - val_categorical_accuracy: 0.9367 - val_IoU_coef: 0.7631 - val_f1_score: 0.9358 - lr: 0.0010\n",
            "Epoch 7/50\n",
            "154/154 [==============================] - ETA: 0s - loss: 0.0094 - categorical_accuracy: 0.9470 - IoU_coef: 0.7836 - f1_score: 0.9460\n",
            "Epoch 7: val_categorical_accuracy improved from 0.93750 to 0.94124, saving model to /content/drive/MyDrive/Lume/road_mapper_dnn/T_121223_6classes/model_checkpoint_121223\n",
            "154/154 [==============================] - 2824s 18s/step - loss: 0.0094 - categorical_accuracy: 0.9470 - IoU_coef: 0.7836 - f1_score: 0.9460 - val_loss: 0.0111 - val_categorical_accuracy: 0.9412 - val_IoU_coef: 0.7698 - val_f1_score: 0.9402 - lr: 5.0000e-04\n",
            "Epoch 8/50\n",
            "154/154 [==============================] - ETA: 0s - loss: 0.0092 - categorical_accuracy: 0.9479 - IoU_coef: 0.7864 - f1_score: 0.9470\n",
            "Epoch 8: val_categorical_accuracy improved from 0.94124 to 0.94157, saving model to /content/drive/MyDrive/Lume/road_mapper_dnn/T_121223_6classes/model_checkpoint_121223\n",
            "154/154 [==============================] - 2840s 19s/step - loss: 0.0092 - categorical_accuracy: 0.9479 - IoU_coef: 0.7864 - f1_score: 0.9470 - val_loss: 0.0110 - val_categorical_accuracy: 0.9416 - val_IoU_coef: 0.7708 - val_f1_score: 0.9406 - lr: 5.0000e-04\n",
            "Epoch 9/50\n",
            "154/154 [==============================] - ETA: 0s - loss: 0.0091 - categorical_accuracy: 0.9483 - IoU_coef: 0.7875 - f1_score: 0.9474\n",
            "Epoch 9: val_categorical_accuracy improved from 0.94157 to 0.94169, saving model to /content/drive/MyDrive/Lume/road_mapper_dnn/T_121223_6classes/model_checkpoint_121223\n",
            "154/154 [==============================] - 2844s 19s/step - loss: 0.0091 - categorical_accuracy: 0.9483 - IoU_coef: 0.7875 - f1_score: 0.9474 - val_loss: 0.0110 - val_categorical_accuracy: 0.9417 - val_IoU_coef: 0.7719 - val_f1_score: 0.9408 - lr: 5.0000e-04\n",
            "Epoch 10/50\n",
            "154/154 [==============================] - ETA: 0s - loss: 0.0091 - categorical_accuracy: 0.9485 - IoU_coef: 0.7885 - f1_score: 0.9477\n",
            "Epoch 10: val_categorical_accuracy improved from 0.94169 to 0.94214, saving model to /content/drive/MyDrive/Lume/road_mapper_dnn/T_121223_6classes/model_checkpoint_121223\n",
            "154/154 [==============================] - 2854s 19s/step - loss: 0.0091 - categorical_accuracy: 0.9485 - IoU_coef: 0.7885 - f1_score: 0.9477 - val_loss: 0.0109 - val_categorical_accuracy: 0.9421 - val_IoU_coef: 0.7731 - val_f1_score: 0.9413 - lr: 5.0000e-04\n",
            "Epoch 11/50\n",
            "154/154 [==============================] - ETA: 0s - loss: 0.0090 - categorical_accuracy: 0.9487 - IoU_coef: 0.7891 - f1_score: 0.9478\n",
            "Epoch 11: val_categorical_accuracy did not improve from 0.94214\n",
            "154/154 [==============================] - 2841s 19s/step - loss: 0.0090 - categorical_accuracy: 0.9487 - IoU_coef: 0.7891 - f1_score: 0.9478 - val_loss: 0.0109 - val_categorical_accuracy: 0.9421 - val_IoU_coef: 0.7732 - val_f1_score: 0.9412 - lr: 5.0000e-04\n",
            "Epoch 12/50\n",
            "154/154 [==============================] - ETA: 0s - loss: 0.0090 - categorical_accuracy: 0.9488 - IoU_coef: 0.7896 - f1_score: 0.9480\n",
            "Epoch 12: val_categorical_accuracy improved from 0.94214 to 0.94227, saving model to /content/drive/MyDrive/Lume/road_mapper_dnn/T_121223_6classes/model_checkpoint_121223\n",
            "154/154 [==============================] - 2860s 19s/step - loss: 0.0090 - categorical_accuracy: 0.9488 - IoU_coef: 0.7896 - f1_score: 0.9480 - val_loss: 0.0109 - val_categorical_accuracy: 0.9423 - val_IoU_coef: 0.7734 - val_f1_score: 0.9415 - lr: 5.0000e-04\n",
            "Epoch 13/50\n",
            "154/154 [==============================] - ETA: 0s - loss: 0.0090 - categorical_accuracy: 0.9489 - IoU_coef: 0.7899 - f1_score: 0.9480"
          ]
        }
      ],
      "source": [
        "# Treinamento\n",
        "import tensorflow as tf\n",
        "import pandas as pd\n",
        "\n",
        "with strategy.scope():\n",
        "    history= multi_worker_model.fit(my_training_batch_generator,\n",
        "                    epochs=nb_epoch,\n",
        "                    steps_per_epoch=steps_per_epoch,\n",
        "                    # class_weight=class_weights_iou,\n",
        "                    verbose=1,\n",
        "                    validation_data=my_validation_batch_generator,\n",
        "                    validation_steps=validation_steps,\n",
        "                    callbacks=[callbacks_list])"
      ]
    },
    {
      "cell_type": "code",
      "execution_count": null,
      "metadata": {
        "id": "KQ_NuTmlafmh"
      },
      "outputs": [],
      "source": [
        "# Salvando o mode\n",
        "model.save('multiclass_road_mapper_custom_0012_2_10.keras')\n"
      ]
    },
    {
      "cell_type": "code",
      "execution_count": null,
      "metadata": {
        "id": "cPG7UNFLJM5e"
      },
      "outputs": [],
      "source": [
        "history =  historico_combinado = {\n",
        "    'loss': [\n",
        "        3.0638, 1.2885, 0.9570, 0.7749, 0.6565, 0.5813, 0.5248, 0.4812, 0.4476,\n",
        "        0.8256, 0.7174, 0.6825, 0.6555, 0.6274, 0.6047, 0.5894, 0.5777, 0.5665,\n",
        "        0.4933, 0.4629, 0.4534, 0.4249, 0.4150, 0.4068, 0.4020, 0.3980, 0.3918,\n",
        "        0.2452, 0.2418, 0.2388, 0.2369, 0.2351, 0.2339, 0.2272, 0.2232, 0.2217,\n",
        "        0.0097, 0.0097, 0.0096, 0.0096, 0.0095, 0.0095, 0.0094, 0.0094, 0.0094, 0.0093, 0.0092, 0.0091\n",
        "    ],\n",
        "    'categorical_accuracy': [\n",
        "        0.7128, 0.8408, 0.8656, 0.8816, 0.8931, 0.9007, 0.9065, 0.9112, 0.9149,\n",
        "        0.8982, 0.9078, 0.9107, 0.9130, 0.9155, 0.9176, 0.9189, 0.9198, 0.9208,\n",
        "        0.9242, 0.9274, 0.9284, 0.9317, 0.9328, 0.9338, 0.9344, 0.9348, 0.9355,\n",
        "        0.9421, 0.9427, 0.9432, 0.9434, 0.9436, 0.9438, 0.9450, 0.9456, 0.9458,\n",
        "        0.9459, 0.9461, 0.9463, 0.9465, 0.9467, 0.9469, 0.9471, 0.9471, 0.9473, 0.9479, 0.9481, 0.9483\n",
        "    ],\n",
        "    'val_loss': [\n",
        "        0.1653, 0.1138, 0.0646, 0.0382, 0.0311, 0.0279, 0.0250, 0.0238, 0.0219,\n",
        "        0.0245, 0.0238, 0.0227, 0.0217, 0.0217, 0.0207, 0.0211, 0.0195, 0.0187,\n",
        "        0.0175, 0.0179, 0.0176, 0.0159, 0.0149, 0.0147, 0.0150, 0.0146, 0.0148,\n",
        "        0.0129, 0.0126, 0.0127, 0.0124, 0.0129, 0.0124, 0.0119, 0.0116, 0.0118,\n",
        "        0.0116, 0.0116, 0.0116, 0.0115, 0.0115, 0.0115, 0.0113, 0.0113, 0.0113, 0.0111, 0.0111, 0.0110\n",
        "    ],\n",
        "    'val_categorical_accuracy': [\n",
        "        0.7022, 0.7671, 0.8281, 0.8693, 0.8857, 0.8932, 0.9004, 0.9016, 0.9073,\n",
        "        0.9001, 0.9020, 0.9047, 0.9054, 0.9049, 0.9084, 0.9065, 0.9107, 0.9129,\n",
        "        0.9176, 0.9154, 0.9168, 0.9229, 0.9263, 0.9264, 0.9259, 0.9269, 0.9264,\n",
        "        0.9347, 0.9359, 0.9354, 0.9365, 0.9346, 0.9363, 0.9385, 0.9396, 0.9387,\n",
        "        0.9394, 0.9396, 0.9397, 0.9400, 0.9401, 0.9400, 0.9406, 0.9405, 0.9406, 0.9415, 0.9416, 0.9418\n",
        "    ],\n",
        "    'lr': [\n",
        "        0.0010, 0.0010, 0.0010, 0.0010, 0.0010, 0.0010, 0.0010, 0.0010, 0.0010,\n",
        "        0.0010, 0.0010, 0.0010, 0.0010, 0.0010, 0.0010, 0.0010, 0.0010, 0.0010,\n",
        "        0.0010, 0.0010, 0.0010, 0.0005, 0.0005, 0.0005, 0.0005, 0.0005, 0.0005,\n",
        "        5.0000e-04, 5.0000e-04, 5.0000e-04, 5.0000e-04, 5.0000e-04, 5.0000e-04, 2.5000e-04, 2.5000e-04, 2.5000e-04,\n",
        "        2.5000e-04, 2.5000e-04, 2.5000e-04, 2.5000e-04, 2.5000e-04, 2.5000e-04, 2.5000e-04, 2.5000e-04, 2.5000e-04, 1.2500e-04, 1.2500e-04, 1.2500e-04\n",
        "    ]\n",
        "}\n"
      ]
    },
    {
      "cell_type": "code",
      "execution_count": null,
      "metadata": {
        "colab": {
          "base_uri": "https://localhost:8080/",
          "height": 36
        },
        "id": "VqGxT-ITSzys",
        "outputId": "16eb2c0e-cfce-4793-e020-c40a3d4bccce"
      },
      "outputs": [
        {
          "output_type": "execute_result",
          "data": {
            "text/plain": [
              "'1.5.3'"
            ],
            "application/vnd.google.colaboratory.intrinsic+json": {
              "type": "string"
            }
          },
          "metadata": {},
          "execution_count": 5
        }
      ],
      "source": [
        "from __future__ import print_function\n",
        "\n",
        "import pandas as pd\n",
        "pd.__version__"
      ]
    },
    {
      "cell_type": "code",
      "execution_count": null,
      "metadata": {
        "colab": {
          "base_uri": "https://localhost:8080/",
          "height": 1000
        },
        "id": "VinGJa7-Sr7A",
        "outputId": "8fa22d94-1d44-4096-d337-913814623d45"
      },
      "outputs": [
        {
          "output_type": "execute_result",
          "data": {
            "text/plain": [
              "    Training Loss  Val Loss  Training Acc  Val Acc        lr\n",
              "0          3.0638    0.1653        0.7128   0.7022  0.001000\n",
              "1          1.2885    0.1138        0.8408   0.7671  0.001000\n",
              "2          0.9570    0.0646        0.8656   0.8281  0.001000\n",
              "3          0.7749    0.0382        0.8816   0.8693  0.001000\n",
              "4          0.6565    0.0311        0.8931   0.8857  0.001000\n",
              "5          0.5813    0.0279        0.9007   0.8932  0.001000\n",
              "6          0.5248    0.0250        0.9065   0.9004  0.001000\n",
              "7          0.4812    0.0238        0.9112   0.9016  0.001000\n",
              "8          0.4476    0.0219        0.9149   0.9073  0.001000\n",
              "9          0.8256    0.0245        0.8982   0.9001  0.001000\n",
              "10         0.7174    0.0238        0.9078   0.9020  0.001000\n",
              "11         0.6825    0.0227        0.9107   0.9047  0.001000\n",
              "12         0.6555    0.0217        0.9130   0.9054  0.001000\n",
              "13         0.6274    0.0217        0.9155   0.9049  0.001000\n",
              "14         0.6047    0.0207        0.9176   0.9084  0.001000\n",
              "15         0.5894    0.0211        0.9189   0.9065  0.001000\n",
              "16         0.5777    0.0195        0.9198   0.9107  0.001000\n",
              "17         0.5665    0.0187        0.9208   0.9129  0.001000\n",
              "18         0.4933    0.0175        0.9242   0.9176  0.001000\n",
              "19         0.4629    0.0179        0.9274   0.9154  0.001000\n",
              "20         0.4534    0.0176        0.9284   0.9168  0.001000\n",
              "21         0.4249    0.0159        0.9317   0.9229  0.000500\n",
              "22         0.4150    0.0149        0.9328   0.9263  0.000500\n",
              "23         0.4068    0.0147        0.9338   0.9264  0.000500\n",
              "24         0.4020    0.0150        0.9344   0.9259  0.000500\n",
              "25         0.3980    0.0146        0.9348   0.9269  0.000500\n",
              "26         0.3918    0.0148        0.9355   0.9264  0.000500\n",
              "27         0.2452    0.0129        0.9421   0.9347  0.000500\n",
              "28         0.2418    0.0126        0.9427   0.9359  0.000500\n",
              "29         0.2388    0.0127        0.9432   0.9354  0.000500\n",
              "30         0.2369    0.0124        0.9434   0.9365  0.000500\n",
              "31         0.2351    0.0129        0.9436   0.9346  0.000500\n",
              "32         0.2339    0.0124        0.9438   0.9363  0.000500\n",
              "33         0.2272    0.0119        0.9450   0.9385  0.000250\n",
              "34         0.2232    0.0116        0.9456   0.9396  0.000250\n",
              "35         0.2217    0.0118        0.9458   0.9387  0.000250\n",
              "36         0.0097    0.0116        0.9459   0.9394  0.000250\n",
              "37         0.0097    0.0116        0.9461   0.9396  0.000250\n",
              "38         0.0096    0.0116        0.9463   0.9397  0.000250\n",
              "39         0.0096    0.0115        0.9465   0.9400  0.000250\n",
              "40         0.0095    0.0115        0.9467   0.9401  0.000250\n",
              "41         0.0095    0.0115        0.9469   0.9400  0.000250\n",
              "42         0.0094    0.0113        0.9471   0.9406  0.000250\n",
              "43         0.0094    0.0113        0.9471   0.9405  0.000250\n",
              "44         0.0094    0.0113        0.9473   0.9406  0.000250\n",
              "45         0.0093    0.0111        0.9479   0.9415  0.000125\n",
              "46         0.0092    0.0111        0.9481   0.9416  0.000125\n",
              "47         0.0091    0.0110        0.9483   0.9418  0.000125"
            ],
            "text/html": [
              "\n",
              "  <div id=\"df-cce482cf-bef7-4076-85e8-a24471ca3750\" class=\"colab-df-container\">\n",
              "    <div>\n",
              "<style scoped>\n",
              "    .dataframe tbody tr th:only-of-type {\n",
              "        vertical-align: middle;\n",
              "    }\n",
              "\n",
              "    .dataframe tbody tr th {\n",
              "        vertical-align: top;\n",
              "    }\n",
              "\n",
              "    .dataframe thead th {\n",
              "        text-align: right;\n",
              "    }\n",
              "</style>\n",
              "<table border=\"1\" class=\"dataframe\">\n",
              "  <thead>\n",
              "    <tr style=\"text-align: right;\">\n",
              "      <th></th>\n",
              "      <th>Training Loss</th>\n",
              "      <th>Val Loss</th>\n",
              "      <th>Training Acc</th>\n",
              "      <th>Val Acc</th>\n",
              "      <th>lr</th>\n",
              "    </tr>\n",
              "  </thead>\n",
              "  <tbody>\n",
              "    <tr>\n",
              "      <th>0</th>\n",
              "      <td>3.0638</td>\n",
              "      <td>0.1653</td>\n",
              "      <td>0.7128</td>\n",
              "      <td>0.7022</td>\n",
              "      <td>0.001000</td>\n",
              "    </tr>\n",
              "    <tr>\n",
              "      <th>1</th>\n",
              "      <td>1.2885</td>\n",
              "      <td>0.1138</td>\n",
              "      <td>0.8408</td>\n",
              "      <td>0.7671</td>\n",
              "      <td>0.001000</td>\n",
              "    </tr>\n",
              "    <tr>\n",
              "      <th>2</th>\n",
              "      <td>0.9570</td>\n",
              "      <td>0.0646</td>\n",
              "      <td>0.8656</td>\n",
              "      <td>0.8281</td>\n",
              "      <td>0.001000</td>\n",
              "    </tr>\n",
              "    <tr>\n",
              "      <th>3</th>\n",
              "      <td>0.7749</td>\n",
              "      <td>0.0382</td>\n",
              "      <td>0.8816</td>\n",
              "      <td>0.8693</td>\n",
              "      <td>0.001000</td>\n",
              "    </tr>\n",
              "    <tr>\n",
              "      <th>4</th>\n",
              "      <td>0.6565</td>\n",
              "      <td>0.0311</td>\n",
              "      <td>0.8931</td>\n",
              "      <td>0.8857</td>\n",
              "      <td>0.001000</td>\n",
              "    </tr>\n",
              "    <tr>\n",
              "      <th>5</th>\n",
              "      <td>0.5813</td>\n",
              "      <td>0.0279</td>\n",
              "      <td>0.9007</td>\n",
              "      <td>0.8932</td>\n",
              "      <td>0.001000</td>\n",
              "    </tr>\n",
              "    <tr>\n",
              "      <th>6</th>\n",
              "      <td>0.5248</td>\n",
              "      <td>0.0250</td>\n",
              "      <td>0.9065</td>\n",
              "      <td>0.9004</td>\n",
              "      <td>0.001000</td>\n",
              "    </tr>\n",
              "    <tr>\n",
              "      <th>7</th>\n",
              "      <td>0.4812</td>\n",
              "      <td>0.0238</td>\n",
              "      <td>0.9112</td>\n",
              "      <td>0.9016</td>\n",
              "      <td>0.001000</td>\n",
              "    </tr>\n",
              "    <tr>\n",
              "      <th>8</th>\n",
              "      <td>0.4476</td>\n",
              "      <td>0.0219</td>\n",
              "      <td>0.9149</td>\n",
              "      <td>0.9073</td>\n",
              "      <td>0.001000</td>\n",
              "    </tr>\n",
              "    <tr>\n",
              "      <th>9</th>\n",
              "      <td>0.8256</td>\n",
              "      <td>0.0245</td>\n",
              "      <td>0.8982</td>\n",
              "      <td>0.9001</td>\n",
              "      <td>0.001000</td>\n",
              "    </tr>\n",
              "    <tr>\n",
              "      <th>10</th>\n",
              "      <td>0.7174</td>\n",
              "      <td>0.0238</td>\n",
              "      <td>0.9078</td>\n",
              "      <td>0.9020</td>\n",
              "      <td>0.001000</td>\n",
              "    </tr>\n",
              "    <tr>\n",
              "      <th>11</th>\n",
              "      <td>0.6825</td>\n",
              "      <td>0.0227</td>\n",
              "      <td>0.9107</td>\n",
              "      <td>0.9047</td>\n",
              "      <td>0.001000</td>\n",
              "    </tr>\n",
              "    <tr>\n",
              "      <th>12</th>\n",
              "      <td>0.6555</td>\n",
              "      <td>0.0217</td>\n",
              "      <td>0.9130</td>\n",
              "      <td>0.9054</td>\n",
              "      <td>0.001000</td>\n",
              "    </tr>\n",
              "    <tr>\n",
              "      <th>13</th>\n",
              "      <td>0.6274</td>\n",
              "      <td>0.0217</td>\n",
              "      <td>0.9155</td>\n",
              "      <td>0.9049</td>\n",
              "      <td>0.001000</td>\n",
              "    </tr>\n",
              "    <tr>\n",
              "      <th>14</th>\n",
              "      <td>0.6047</td>\n",
              "      <td>0.0207</td>\n",
              "      <td>0.9176</td>\n",
              "      <td>0.9084</td>\n",
              "      <td>0.001000</td>\n",
              "    </tr>\n",
              "    <tr>\n",
              "      <th>15</th>\n",
              "      <td>0.5894</td>\n",
              "      <td>0.0211</td>\n",
              "      <td>0.9189</td>\n",
              "      <td>0.9065</td>\n",
              "      <td>0.001000</td>\n",
              "    </tr>\n",
              "    <tr>\n",
              "      <th>16</th>\n",
              "      <td>0.5777</td>\n",
              "      <td>0.0195</td>\n",
              "      <td>0.9198</td>\n",
              "      <td>0.9107</td>\n",
              "      <td>0.001000</td>\n",
              "    </tr>\n",
              "    <tr>\n",
              "      <th>17</th>\n",
              "      <td>0.5665</td>\n",
              "      <td>0.0187</td>\n",
              "      <td>0.9208</td>\n",
              "      <td>0.9129</td>\n",
              "      <td>0.001000</td>\n",
              "    </tr>\n",
              "    <tr>\n",
              "      <th>18</th>\n",
              "      <td>0.4933</td>\n",
              "      <td>0.0175</td>\n",
              "      <td>0.9242</td>\n",
              "      <td>0.9176</td>\n",
              "      <td>0.001000</td>\n",
              "    </tr>\n",
              "    <tr>\n",
              "      <th>19</th>\n",
              "      <td>0.4629</td>\n",
              "      <td>0.0179</td>\n",
              "      <td>0.9274</td>\n",
              "      <td>0.9154</td>\n",
              "      <td>0.001000</td>\n",
              "    </tr>\n",
              "    <tr>\n",
              "      <th>20</th>\n",
              "      <td>0.4534</td>\n",
              "      <td>0.0176</td>\n",
              "      <td>0.9284</td>\n",
              "      <td>0.9168</td>\n",
              "      <td>0.001000</td>\n",
              "    </tr>\n",
              "    <tr>\n",
              "      <th>21</th>\n",
              "      <td>0.4249</td>\n",
              "      <td>0.0159</td>\n",
              "      <td>0.9317</td>\n",
              "      <td>0.9229</td>\n",
              "      <td>0.000500</td>\n",
              "    </tr>\n",
              "    <tr>\n",
              "      <th>22</th>\n",
              "      <td>0.4150</td>\n",
              "      <td>0.0149</td>\n",
              "      <td>0.9328</td>\n",
              "      <td>0.9263</td>\n",
              "      <td>0.000500</td>\n",
              "    </tr>\n",
              "    <tr>\n",
              "      <th>23</th>\n",
              "      <td>0.4068</td>\n",
              "      <td>0.0147</td>\n",
              "      <td>0.9338</td>\n",
              "      <td>0.9264</td>\n",
              "      <td>0.000500</td>\n",
              "    </tr>\n",
              "    <tr>\n",
              "      <th>24</th>\n",
              "      <td>0.4020</td>\n",
              "      <td>0.0150</td>\n",
              "      <td>0.9344</td>\n",
              "      <td>0.9259</td>\n",
              "      <td>0.000500</td>\n",
              "    </tr>\n",
              "    <tr>\n",
              "      <th>25</th>\n",
              "      <td>0.3980</td>\n",
              "      <td>0.0146</td>\n",
              "      <td>0.9348</td>\n",
              "      <td>0.9269</td>\n",
              "      <td>0.000500</td>\n",
              "    </tr>\n",
              "    <tr>\n",
              "      <th>26</th>\n",
              "      <td>0.3918</td>\n",
              "      <td>0.0148</td>\n",
              "      <td>0.9355</td>\n",
              "      <td>0.9264</td>\n",
              "      <td>0.000500</td>\n",
              "    </tr>\n",
              "    <tr>\n",
              "      <th>27</th>\n",
              "      <td>0.2452</td>\n",
              "      <td>0.0129</td>\n",
              "      <td>0.9421</td>\n",
              "      <td>0.9347</td>\n",
              "      <td>0.000500</td>\n",
              "    </tr>\n",
              "    <tr>\n",
              "      <th>28</th>\n",
              "      <td>0.2418</td>\n",
              "      <td>0.0126</td>\n",
              "      <td>0.9427</td>\n",
              "      <td>0.9359</td>\n",
              "      <td>0.000500</td>\n",
              "    </tr>\n",
              "    <tr>\n",
              "      <th>29</th>\n",
              "      <td>0.2388</td>\n",
              "      <td>0.0127</td>\n",
              "      <td>0.9432</td>\n",
              "      <td>0.9354</td>\n",
              "      <td>0.000500</td>\n",
              "    </tr>\n",
              "    <tr>\n",
              "      <th>30</th>\n",
              "      <td>0.2369</td>\n",
              "      <td>0.0124</td>\n",
              "      <td>0.9434</td>\n",
              "      <td>0.9365</td>\n",
              "      <td>0.000500</td>\n",
              "    </tr>\n",
              "    <tr>\n",
              "      <th>31</th>\n",
              "      <td>0.2351</td>\n",
              "      <td>0.0129</td>\n",
              "      <td>0.9436</td>\n",
              "      <td>0.9346</td>\n",
              "      <td>0.000500</td>\n",
              "    </tr>\n",
              "    <tr>\n",
              "      <th>32</th>\n",
              "      <td>0.2339</td>\n",
              "      <td>0.0124</td>\n",
              "      <td>0.9438</td>\n",
              "      <td>0.9363</td>\n",
              "      <td>0.000500</td>\n",
              "    </tr>\n",
              "    <tr>\n",
              "      <th>33</th>\n",
              "      <td>0.2272</td>\n",
              "      <td>0.0119</td>\n",
              "      <td>0.9450</td>\n",
              "      <td>0.9385</td>\n",
              "      <td>0.000250</td>\n",
              "    </tr>\n",
              "    <tr>\n",
              "      <th>34</th>\n",
              "      <td>0.2232</td>\n",
              "      <td>0.0116</td>\n",
              "      <td>0.9456</td>\n",
              "      <td>0.9396</td>\n",
              "      <td>0.000250</td>\n",
              "    </tr>\n",
              "    <tr>\n",
              "      <th>35</th>\n",
              "      <td>0.2217</td>\n",
              "      <td>0.0118</td>\n",
              "      <td>0.9458</td>\n",
              "      <td>0.9387</td>\n",
              "      <td>0.000250</td>\n",
              "    </tr>\n",
              "    <tr>\n",
              "      <th>36</th>\n",
              "      <td>0.0097</td>\n",
              "      <td>0.0116</td>\n",
              "      <td>0.9459</td>\n",
              "      <td>0.9394</td>\n",
              "      <td>0.000250</td>\n",
              "    </tr>\n",
              "    <tr>\n",
              "      <th>37</th>\n",
              "      <td>0.0097</td>\n",
              "      <td>0.0116</td>\n",
              "      <td>0.9461</td>\n",
              "      <td>0.9396</td>\n",
              "      <td>0.000250</td>\n",
              "    </tr>\n",
              "    <tr>\n",
              "      <th>38</th>\n",
              "      <td>0.0096</td>\n",
              "      <td>0.0116</td>\n",
              "      <td>0.9463</td>\n",
              "      <td>0.9397</td>\n",
              "      <td>0.000250</td>\n",
              "    </tr>\n",
              "    <tr>\n",
              "      <th>39</th>\n",
              "      <td>0.0096</td>\n",
              "      <td>0.0115</td>\n",
              "      <td>0.9465</td>\n",
              "      <td>0.9400</td>\n",
              "      <td>0.000250</td>\n",
              "    </tr>\n",
              "    <tr>\n",
              "      <th>40</th>\n",
              "      <td>0.0095</td>\n",
              "      <td>0.0115</td>\n",
              "      <td>0.9467</td>\n",
              "      <td>0.9401</td>\n",
              "      <td>0.000250</td>\n",
              "    </tr>\n",
              "    <tr>\n",
              "      <th>41</th>\n",
              "      <td>0.0095</td>\n",
              "      <td>0.0115</td>\n",
              "      <td>0.9469</td>\n",
              "      <td>0.9400</td>\n",
              "      <td>0.000250</td>\n",
              "    </tr>\n",
              "    <tr>\n",
              "      <th>42</th>\n",
              "      <td>0.0094</td>\n",
              "      <td>0.0113</td>\n",
              "      <td>0.9471</td>\n",
              "      <td>0.9406</td>\n",
              "      <td>0.000250</td>\n",
              "    </tr>\n",
              "    <tr>\n",
              "      <th>43</th>\n",
              "      <td>0.0094</td>\n",
              "      <td>0.0113</td>\n",
              "      <td>0.9471</td>\n",
              "      <td>0.9405</td>\n",
              "      <td>0.000250</td>\n",
              "    </tr>\n",
              "    <tr>\n",
              "      <th>44</th>\n",
              "      <td>0.0094</td>\n",
              "      <td>0.0113</td>\n",
              "      <td>0.9473</td>\n",
              "      <td>0.9406</td>\n",
              "      <td>0.000250</td>\n",
              "    </tr>\n",
              "    <tr>\n",
              "      <th>45</th>\n",
              "      <td>0.0093</td>\n",
              "      <td>0.0111</td>\n",
              "      <td>0.9479</td>\n",
              "      <td>0.9415</td>\n",
              "      <td>0.000125</td>\n",
              "    </tr>\n",
              "    <tr>\n",
              "      <th>46</th>\n",
              "      <td>0.0092</td>\n",
              "      <td>0.0111</td>\n",
              "      <td>0.9481</td>\n",
              "      <td>0.9416</td>\n",
              "      <td>0.000125</td>\n",
              "    </tr>\n",
              "    <tr>\n",
              "      <th>47</th>\n",
              "      <td>0.0091</td>\n",
              "      <td>0.0110</td>\n",
              "      <td>0.9483</td>\n",
              "      <td>0.9418</td>\n",
              "      <td>0.000125</td>\n",
              "    </tr>\n",
              "  </tbody>\n",
              "</table>\n",
              "</div>\n",
              "    <div class=\"colab-df-buttons\">\n",
              "\n",
              "  <div class=\"colab-df-container\">\n",
              "    <button class=\"colab-df-convert\" onclick=\"convertToInteractive('df-cce482cf-bef7-4076-85e8-a24471ca3750')\"\n",
              "            title=\"Convert this dataframe to an interactive table.\"\n",
              "            style=\"display:none;\">\n",
              "\n",
              "  <svg xmlns=\"http://www.w3.org/2000/svg\" height=\"24px\" viewBox=\"0 -960 960 960\">\n",
              "    <path d=\"M120-120v-720h720v720H120Zm60-500h600v-160H180v160Zm220 220h160v-160H400v160Zm0 220h160v-160H400v160ZM180-400h160v-160H180v160Zm440 0h160v-160H620v160ZM180-180h160v-160H180v160Zm440 0h160v-160H620v160Z\"/>\n",
              "  </svg>\n",
              "    </button>\n",
              "\n",
              "  <style>\n",
              "    .colab-df-container {\n",
              "      display:flex;\n",
              "      gap: 12px;\n",
              "    }\n",
              "\n",
              "    .colab-df-convert {\n",
              "      background-color: #E8F0FE;\n",
              "      border: none;\n",
              "      border-radius: 50%;\n",
              "      cursor: pointer;\n",
              "      display: none;\n",
              "      fill: #1967D2;\n",
              "      height: 32px;\n",
              "      padding: 0 0 0 0;\n",
              "      width: 32px;\n",
              "    }\n",
              "\n",
              "    .colab-df-convert:hover {\n",
              "      background-color: #E2EBFA;\n",
              "      box-shadow: 0px 1px 2px rgba(60, 64, 67, 0.3), 0px 1px 3px 1px rgba(60, 64, 67, 0.15);\n",
              "      fill: #174EA6;\n",
              "    }\n",
              "\n",
              "    .colab-df-buttons div {\n",
              "      margin-bottom: 4px;\n",
              "    }\n",
              "\n",
              "    [theme=dark] .colab-df-convert {\n",
              "      background-color: #3B4455;\n",
              "      fill: #D2E3FC;\n",
              "    }\n",
              "\n",
              "    [theme=dark] .colab-df-convert:hover {\n",
              "      background-color: #434B5C;\n",
              "      box-shadow: 0px 1px 3px 1px rgba(0, 0, 0, 0.15);\n",
              "      filter: drop-shadow(0px 1px 2px rgba(0, 0, 0, 0.3));\n",
              "      fill: #FFFFFF;\n",
              "    }\n",
              "  </style>\n",
              "\n",
              "    <script>\n",
              "      const buttonEl =\n",
              "        document.querySelector('#df-cce482cf-bef7-4076-85e8-a24471ca3750 button.colab-df-convert');\n",
              "      buttonEl.style.display =\n",
              "        google.colab.kernel.accessAllowed ? 'block' : 'none';\n",
              "\n",
              "      async function convertToInteractive(key) {\n",
              "        const element = document.querySelector('#df-cce482cf-bef7-4076-85e8-a24471ca3750');\n",
              "        const dataTable =\n",
              "          await google.colab.kernel.invokeFunction('convertToInteractive',\n",
              "                                                    [key], {});\n",
              "        if (!dataTable) return;\n",
              "\n",
              "        const docLinkHtml = 'Like what you see? Visit the ' +\n",
              "          '<a target=\"_blank\" href=https://colab.research.google.com/notebooks/data_table.ipynb>data table notebook</a>'\n",
              "          + ' to learn more about interactive tables.';\n",
              "        element.innerHTML = '';\n",
              "        dataTable['output_type'] = 'display_data';\n",
              "        await google.colab.output.renderOutput(dataTable, element);\n",
              "        const docLink = document.createElement('div');\n",
              "        docLink.innerHTML = docLinkHtml;\n",
              "        element.appendChild(docLink);\n",
              "      }\n",
              "    </script>\n",
              "  </div>\n",
              "\n",
              "\n",
              "<div id=\"df-7f0be8d9-c462-4783-83bb-a1337fb572ce\">\n",
              "  <button class=\"colab-df-quickchart\" onclick=\"quickchart('df-7f0be8d9-c462-4783-83bb-a1337fb572ce')\"\n",
              "            title=\"Suggest charts\"\n",
              "            style=\"display:none;\">\n",
              "\n",
              "<svg xmlns=\"http://www.w3.org/2000/svg\" height=\"24px\"viewBox=\"0 0 24 24\"\n",
              "     width=\"24px\">\n",
              "    <g>\n",
              "        <path d=\"M19 3H5c-1.1 0-2 .9-2 2v14c0 1.1.9 2 2 2h14c1.1 0 2-.9 2-2V5c0-1.1-.9-2-2-2zM9 17H7v-7h2v7zm4 0h-2V7h2v10zm4 0h-2v-4h2v4z\"/>\n",
              "    </g>\n",
              "</svg>\n",
              "  </button>\n",
              "\n",
              "<style>\n",
              "  .colab-df-quickchart {\n",
              "      --bg-color: #E8F0FE;\n",
              "      --fill-color: #1967D2;\n",
              "      --hover-bg-color: #E2EBFA;\n",
              "      --hover-fill-color: #174EA6;\n",
              "      --disabled-fill-color: #AAA;\n",
              "      --disabled-bg-color: #DDD;\n",
              "  }\n",
              "\n",
              "  [theme=dark] .colab-df-quickchart {\n",
              "      --bg-color: #3B4455;\n",
              "      --fill-color: #D2E3FC;\n",
              "      --hover-bg-color: #434B5C;\n",
              "      --hover-fill-color: #FFFFFF;\n",
              "      --disabled-bg-color: #3B4455;\n",
              "      --disabled-fill-color: #666;\n",
              "  }\n",
              "\n",
              "  .colab-df-quickchart {\n",
              "    background-color: var(--bg-color);\n",
              "    border: none;\n",
              "    border-radius: 50%;\n",
              "    cursor: pointer;\n",
              "    display: none;\n",
              "    fill: var(--fill-color);\n",
              "    height: 32px;\n",
              "    padding: 0;\n",
              "    width: 32px;\n",
              "  }\n",
              "\n",
              "  .colab-df-quickchart:hover {\n",
              "    background-color: var(--hover-bg-color);\n",
              "    box-shadow: 0 1px 2px rgba(60, 64, 67, 0.3), 0 1px 3px 1px rgba(60, 64, 67, 0.15);\n",
              "    fill: var(--button-hover-fill-color);\n",
              "  }\n",
              "\n",
              "  .colab-df-quickchart-complete:disabled,\n",
              "  .colab-df-quickchart-complete:disabled:hover {\n",
              "    background-color: var(--disabled-bg-color);\n",
              "    fill: var(--disabled-fill-color);\n",
              "    box-shadow: none;\n",
              "  }\n",
              "\n",
              "  .colab-df-spinner {\n",
              "    border: 2px solid var(--fill-color);\n",
              "    border-color: transparent;\n",
              "    border-bottom-color: var(--fill-color);\n",
              "    animation:\n",
              "      spin 1s steps(1) infinite;\n",
              "  }\n",
              "\n",
              "  @keyframes spin {\n",
              "    0% {\n",
              "      border-color: transparent;\n",
              "      border-bottom-color: var(--fill-color);\n",
              "      border-left-color: var(--fill-color);\n",
              "    }\n",
              "    20% {\n",
              "      border-color: transparent;\n",
              "      border-left-color: var(--fill-color);\n",
              "      border-top-color: var(--fill-color);\n",
              "    }\n",
              "    30% {\n",
              "      border-color: transparent;\n",
              "      border-left-color: var(--fill-color);\n",
              "      border-top-color: var(--fill-color);\n",
              "      border-right-color: var(--fill-color);\n",
              "    }\n",
              "    40% {\n",
              "      border-color: transparent;\n",
              "      border-right-color: var(--fill-color);\n",
              "      border-top-color: var(--fill-color);\n",
              "    }\n",
              "    60% {\n",
              "      border-color: transparent;\n",
              "      border-right-color: var(--fill-color);\n",
              "    }\n",
              "    80% {\n",
              "      border-color: transparent;\n",
              "      border-right-color: var(--fill-color);\n",
              "      border-bottom-color: var(--fill-color);\n",
              "    }\n",
              "    90% {\n",
              "      border-color: transparent;\n",
              "      border-bottom-color: var(--fill-color);\n",
              "    }\n",
              "  }\n",
              "</style>\n",
              "\n",
              "  <script>\n",
              "    async function quickchart(key) {\n",
              "      const quickchartButtonEl =\n",
              "        document.querySelector('#' + key + ' button');\n",
              "      quickchartButtonEl.disabled = true;  // To prevent multiple clicks.\n",
              "      quickchartButtonEl.classList.add('colab-df-spinner');\n",
              "      try {\n",
              "        const charts = await google.colab.kernel.invokeFunction(\n",
              "            'suggestCharts', [key], {});\n",
              "      } catch (error) {\n",
              "        console.error('Error during call to suggestCharts:', error);\n",
              "      }\n",
              "      quickchartButtonEl.classList.remove('colab-df-spinner');\n",
              "      quickchartButtonEl.classList.add('colab-df-quickchart-complete');\n",
              "    }\n",
              "    (() => {\n",
              "      let quickchartButtonEl =\n",
              "        document.querySelector('#df-7f0be8d9-c462-4783-83bb-a1337fb572ce button');\n",
              "      quickchartButtonEl.style.display =\n",
              "        google.colab.kernel.accessAllowed ? 'block' : 'none';\n",
              "    })();\n",
              "  </script>\n",
              "</div>\n",
              "\n",
              "  <div id=\"id_6ef393f2-507a-46d3-ad19-e9007d2df4b9\">\n",
              "    <style>\n",
              "      .colab-df-generate {\n",
              "        background-color: #E8F0FE;\n",
              "        border: none;\n",
              "        border-radius: 50%;\n",
              "        cursor: pointer;\n",
              "        display: none;\n",
              "        fill: #1967D2;\n",
              "        height: 32px;\n",
              "        padding: 0 0 0 0;\n",
              "        width: 32px;\n",
              "      }\n",
              "\n",
              "      .colab-df-generate:hover {\n",
              "        background-color: #E2EBFA;\n",
              "        box-shadow: 0px 1px 2px rgba(60, 64, 67, 0.3), 0px 1px 3px 1px rgba(60, 64, 67, 0.15);\n",
              "        fill: #174EA6;\n",
              "      }\n",
              "\n",
              "      [theme=dark] .colab-df-generate {\n",
              "        background-color: #3B4455;\n",
              "        fill: #D2E3FC;\n",
              "      }\n",
              "\n",
              "      [theme=dark] .colab-df-generate:hover {\n",
              "        background-color: #434B5C;\n",
              "        box-shadow: 0px 1px 3px 1px rgba(0, 0, 0, 0.15);\n",
              "        filter: drop-shadow(0px 1px 2px rgba(0, 0, 0, 0.3));\n",
              "        fill: #FFFFFF;\n",
              "      }\n",
              "    </style>\n",
              "    <button class=\"colab-df-generate\" onclick=\"generateWithVariable('df')\"\n",
              "            title=\"Generate code using this dataframe.\"\n",
              "            style=\"display:none;\">\n",
              "\n",
              "  <svg xmlns=\"http://www.w3.org/2000/svg\" height=\"24px\"viewBox=\"0 0 24 24\"\n",
              "       width=\"24px\">\n",
              "    <path d=\"M7,19H8.4L18.45,9,17,7.55,7,17.6ZM5,21V16.75L18.45,3.32a2,2,0,0,1,2.83,0l1.4,1.43a1.91,1.91,0,0,1,.58,1.4,1.91,1.91,0,0,1-.58,1.4L9.25,21ZM18.45,9,17,7.55Zm-12,3A5.31,5.31,0,0,0,4.9,8.1,5.31,5.31,0,0,0,1,6.5,5.31,5.31,0,0,0,4.9,4.9,5.31,5.31,0,0,0,6.5,1,5.31,5.31,0,0,0,8.1,4.9,5.31,5.31,0,0,0,12,6.5,5.46,5.46,0,0,0,6.5,12Z\"/>\n",
              "  </svg>\n",
              "    </button>\n",
              "    <script>\n",
              "      (() => {\n",
              "      const buttonEl =\n",
              "        document.querySelector('#id_6ef393f2-507a-46d3-ad19-e9007d2df4b9 button.colab-df-generate');\n",
              "      buttonEl.style.display =\n",
              "        google.colab.kernel.accessAllowed ? 'block' : 'none';\n",
              "\n",
              "      buttonEl.onclick = () => {\n",
              "        google.colab.notebook.generateWithVariable('df');\n",
              "      }\n",
              "      })();\n",
              "    </script>\n",
              "  </div>\n",
              "\n",
              "    </div>\n",
              "  </div>\n"
            ]
          },
          "metadata": {},
          "execution_count": 50
        }
      ],
      "source": [
        "\n",
        "dict = {'Training Loss': history['loss'], 'Val Loss': history['val_loss'],\n",
        "        'Training Acc': history['categorical_accuracy'], 'Val Acc': history['val_categorical_accuracy'], 'lr':history['lr']}\n",
        "df = pd.DataFrame(dict)\n",
        "df"
      ]
    },
    {
      "cell_type": "code",
      "execution_count": null,
      "metadata": {
        "id": "hNTia56vnxQY"
      },
      "outputs": [],
      "source": [
        "# Salvando os resultados\n",
        "import pickle\n",
        "try:\n",
        "    arquivo = open(\"/content/drive/MyDrive/Lume/road_mapper_dnn/results_10K_32_10_0012.json\", \"wb\")\n",
        "    pickle.dump(history, arquivo)\n",
        "    arquivo.close()\n",
        "except:\n",
        "    print(\"Problemas com o arquivo results.\")\n"
      ]
    },
    {
      "cell_type": "code",
      "execution_count": null,
      "metadata": {
        "id": "gzpAQYBcnxQZ"
      },
      "outputs": [],
      "source": [
        "import os\n",
        "import subprocess\n",
        "from IPython.display import FileLink, display\n",
        "\n",
        "def download_file(path, download_file_name):\n",
        "    os.chdir('/kaggle/working/')\n",
        "    zip_name = f\"/kaggle/working/{download_file_name}.zip\"\n",
        "    command = f\"zip {zip_name} {path} -r\"\n",
        "    result = subprocess.run(command, shell=True, capture_output=True, text=True)\n",
        "    if result.returncode != 0:\n",
        "        print(\"Unable to run zip command!\")\n",
        "        print(result.stderr)\n",
        "        return\n",
        "    display(FileLink(f'{download_file_name}.zip'))"
      ]
    },
    {
      "cell_type": "code",
      "execution_count": null,
      "metadata": {
        "id": "1D0w1paYnxQZ"
      },
      "outputs": [],
      "source": [
        "download_file('/kaggle/working', 'out')"
      ]
    },
    {
      "cell_type": "markdown",
      "metadata": {
        "id": "x4y3yE0zJU3r"
      },
      "source": [
        "## Treinamento com Validação Cruzada"
      ]
    },
    {
      "cell_type": "code",
      "execution_count": null,
      "metadata": {
        "id": "qiyV-zSmONLV"
      },
      "outputs": [],
      "source": [
        "from tensorflow.keras.callbacks import ModelCheckpoint, EarlyStopping, ReduceLROnPlateau\n",
        "def get_checkpoint(filepath):\n",
        "  checkpoint = ModelCheckpoint(filepath, monitor='val_categorical_accuracy', verbose=1, save_best_only=True, mode='max')\n",
        "  es = EarlyStopping(monitor='val_categorical_accuracy', patience=4)\n",
        "  reduce_lr = ReduceLROnPlateau(monitor='val_categorical_accuracy', factor=0.5, patience=2, mode='max')\n",
        "  return [checkpoint, es, reduce_lr]\n"
      ]
    },
    {
      "cell_type": "code",
      "execution_count": null,
      "metadata": {
        "id": "cwzIRPU0JT2a"
      },
      "outputs": [],
      "source": [
        "import pickle\n",
        "def get_folds(skiprows, n_folds):\n",
        "  idx_por_fold = int(len(skiprows)/n_folds)\n",
        "  sk_fold = []\n",
        "\n",
        "  for idx in range(0, n_folds):\n",
        "    sk_fold.append(list(skiprows[idx*idx_por_fold:(idx+1)*idx_por_fold]))\n",
        "\n",
        "  return sk_fold\n",
        "\n",
        "def save_file_txt(name, data):\n",
        "\n",
        "  try:\n",
        "    with open(name, 'w') as arquivo:\n",
        "        # Adiciona mais conteúdo ao arquivo\n",
        "          arquivo.write(str(data))\n",
        "  except:\n",
        "      print(\"Problemas ao salvar arquivo.\")\n"
      ]
    },
    {
      "cell_type": "code",
      "execution_count": null,
      "metadata": {
        "colab": {
          "base_uri": "https://localhost:8080/"
        },
        "id": "CkNfw9wQJgbX",
        "outputId": "d70ebcb1-2bcf-453f-8ae2-96643572d111"
      },
      "outputs": [
        {
          "output_type": "stream",
          "name": "stdout",
          "text": [
            "38912\n",
            "9728\n",
            "Epoch 1/13\n",
            "152/152 [==============================] - ETA: 0s - loss: 0.1918 - categorical_accuracy: 0.8839 - mean_io_u_6: 0.4000 \n",
            "Epoch 1: val_categorical_accuracy improved from -inf to 0.87041, saving model to /content/drive/MyDrive/Lume/road_mapper_dnn/T_291123_CFC_LRP/kfold_checkpoint_model4\n",
            "152/152 [==============================] - 3683s 24s/step - loss: 0.1918 - categorical_accuracy: 0.8839 - mean_io_u_6: 0.4000 - val_loss: 0.0327 - val_categorical_accuracy: 0.8704 - val_mean_io_u_6: 0.4000 - lr: 2.5000e-04\n",
            "Epoch 2/13\n",
            "152/152 [==============================] - ETA: 0s - loss: 0.1914 - categorical_accuracy: 0.8840 - mean_io_u_6: 0.4000 \n",
            "Epoch 2: val_categorical_accuracy improved from 0.87041 to 0.87069, saving model to /content/drive/MyDrive/Lume/road_mapper_dnn/T_291123_CFC_LRP/kfold_checkpoint_model4\n",
            "152/152 [==============================] - 3597s 24s/step - loss: 0.1914 - categorical_accuracy: 0.8840 - mean_io_u_6: 0.4000 - val_loss: 0.0326 - val_categorical_accuracy: 0.8707 - val_mean_io_u_6: 0.4000 - lr: 2.5000e-04\n",
            "Epoch 3/13\n",
            "152/152 [==============================] - ETA: 0s - loss: 0.1908 - categorical_accuracy: 0.8841 - mean_io_u_6: 0.4000 \n",
            "Epoch 3: val_categorical_accuracy improved from 0.87069 to 0.87070, saving model to /content/drive/MyDrive/Lume/road_mapper_dnn/T_291123_CFC_LRP/kfold_checkpoint_model4\n",
            "152/152 [==============================] - 3637s 24s/step - loss: 0.1908 - categorical_accuracy: 0.8841 - mean_io_u_6: 0.4000 - val_loss: 0.0325 - val_categorical_accuracy: 0.8707 - val_mean_io_u_6: 0.4000 - lr: 2.5000e-04\n",
            "Epoch 4/13\n",
            "152/152 [==============================] - ETA: 0s - loss: 0.1901 - categorical_accuracy: 0.8843 - mean_io_u_6: 0.4000 \n",
            "Epoch 4: val_categorical_accuracy improved from 0.87070 to 0.87127, saving model to /content/drive/MyDrive/Lume/road_mapper_dnn/T_291123_CFC_LRP/kfold_checkpoint_model4\n",
            "152/152 [==============================] - 3647s 24s/step - loss: 0.1901 - categorical_accuracy: 0.8843 - mean_io_u_6: 0.4000 - val_loss: 0.0322 - val_categorical_accuracy: 0.8713 - val_mean_io_u_6: 0.4000 - lr: 2.5000e-04\n",
            "Epoch 5/13\n",
            "152/152 [==============================] - ETA: 0s - loss: 0.1892 - categorical_accuracy: 0.8845 - mean_io_u_6: 0.4000 \n",
            "Epoch 5: val_categorical_accuracy improved from 0.87127 to 0.87148, saving model to /content/drive/MyDrive/Lume/road_mapper_dnn/T_291123_CFC_LRP/kfold_checkpoint_model4\n",
            "152/152 [==============================] - 3642s 24s/step - loss: 0.1892 - categorical_accuracy: 0.8845 - mean_io_u_6: 0.4000 - val_loss: 0.0322 - val_categorical_accuracy: 0.8715 - val_mean_io_u_6: 0.4000 - lr: 2.5000e-04\n",
            "Epoch 6/13\n",
            "152/152 [==============================] - ETA: 0s - loss: 0.1886 - categorical_accuracy: 0.8846 - mean_io_u_6: 0.4000 \n",
            "Epoch 6: val_categorical_accuracy did not improve from 0.87148\n",
            "152/152 [==============================] - 3674s 24s/step - loss: 0.1886 - categorical_accuracy: 0.8846 - mean_io_u_6: 0.4000 - val_loss: 0.0323 - val_categorical_accuracy: 0.8711 - val_mean_io_u_6: 0.4000 - lr: 2.5000e-04\n",
            "Epoch 7/13\n",
            "152/152 [==============================] - ETA: 0s - loss: 0.1879 - categorical_accuracy: 0.8848 - mean_io_u_6: 0.4000 \n",
            "Epoch 7: val_categorical_accuracy did not improve from 0.87148\n",
            "152/152 [==============================] - 3628s 24s/step - loss: 0.1879 - categorical_accuracy: 0.8848 - mean_io_u_6: 0.4000 - val_loss: 0.0321 - val_categorical_accuracy: 0.8714 - val_mean_io_u_6: 0.4000 - lr: 2.5000e-04\n",
            "Epoch 8/13\n",
            "152/152 [==============================] - ETA: 0s - loss: 0.1861 - categorical_accuracy: 0.8854 - mean_io_u_6: 0.4000\n",
            "Epoch 8: val_categorical_accuracy improved from 0.87148 to 0.87285, saving model to /content/drive/MyDrive/Lume/road_mapper_dnn/T_291123_CFC_LRP/kfold_checkpoint_model4\n",
            "152/152 [==============================] - 2940s 19s/step - loss: 0.1861 - categorical_accuracy: 0.8854 - mean_io_u_6: 0.4000 - val_loss: 0.0316 - val_categorical_accuracy: 0.8729 - val_mean_io_u_6: 0.4000 - lr: 1.2500e-04\n",
            "Epoch 9/13\n",
            "152/152 [==============================] - ETA: 0s - loss: 0.1852 - categorical_accuracy: 0.8858 - mean_io_u_6: 0.4000"
          ]
        }
      ],
      "source": [
        "import numpy as np\n",
        "import random\n",
        "\n",
        "from keras.models import Sequential\n",
        "from keras.layers import Dense, Activation\n",
        "from sklearn.model_selection import KFold\n",
        "quant_train = 38912\n",
        "quant_test = 9728\n",
        "batch_size = 256\n",
        "nb_epoch = 13\n",
        "skiprows = []\n",
        "results = []\n",
        "metrics = []\n",
        "\n",
        "# Objetos gerados para treino e validação\n",
        "steps_per_epoch=np.ceil(getsteps(quant_train,batch_size))\n",
        "validation_steps=np.ceil(getsteps(quant_test,batch_size))\n",
        "\n",
        "total_dados = quant_test + quant_train\n",
        "for sr in range(0, total_dados, batch_size):\n",
        "  skiprows.append(sr)\n",
        "\n",
        "# random.shuffle(skiprows)\n",
        "\n",
        "sk_fold = get_folds(skiprows, 5)\n",
        "\n",
        "for i in range(4,5):\n",
        "  val_data = sk_fold[i]\n",
        "  train_data = []\n",
        "\n",
        "  for j in range(5):\n",
        "    if j!=i:\n",
        "      train_data.extend(sk_fold[j])\n",
        "\n",
        "  callbacks_list = get_checkpoint('/content/drive/MyDrive/Lume/road_mapper_dnn/T_291123_CFC_LRP/kfold_checkpoint_model'+str(i))\n",
        "  my_training_batch_generator = batch_generator('/content/train_cleaned.csv', batch_size,steps_per_epoch, train_data)##\n",
        "  my_validation_batch_generator = batch_generator('/content/train_cleaned.csv', batch_size,validation_steps, val_data)##\n",
        "\n",
        "  strategy = tf.distribute.MirroredStrategy()\n",
        "\n",
        "  with strategy.scope():\n",
        "      multi_worker_model= load_model('/content/drive/MyDrive/Lume/road_mapper_dnn/T_281123_CFC_LRP/kfold_checkpoint_model4', compile=True)\n",
        "\n",
        "      history= multi_worker_model.fit(my_training_batch_generator,\n",
        "                    epochs=nb_epoch,\n",
        "                    steps_per_epoch=steps_per_epoch,\n",
        "                    verbose=1,\n",
        "                    class_weight=class_weights,\n",
        "                    validation_data=my_validation_batch_generator,\n",
        "                    validation_steps=validation_steps,\n",
        "                    callbacks=[callbacks_list])\n",
        "  # results.append(history)\n",
        "  # multi_worker_model.save('/content/drive/MyDrive/Lume/road_mapper_dnn/T_271123_CFC/kfold_model_2711_'+str(i)+'.keras')\n",
        "\n",
        "\n",
        "# save_file_txt('/content/drive/MyDrive/Lume/road_mapper_dnn/T_241123/kfold_results.txt', results)\n"
      ]
    },
    {
      "cell_type": "markdown",
      "metadata": {
        "id": "SAbYVpagb9cW"
      },
      "source": [
        "<div id=\"chap5\"><h1 style=\"color:white;background:#62909d;border-radius:5px;padding:30px;font-family:'Sans-Serif', cursive;font-size:40px;text-align:center\">Analisando os Resultados</h1></div>"
      ]
    },
    {
      "cell_type": "code",
      "execution_count": null,
      "metadata": {
        "id": "ch8AQ6fE_QJf"
      },
      "outputs": [],
      "source": [
        "history = {\n",
        "    'loss': [3.0638, 1.2885, 0.9570, 0.7749, 0.6565, 0.5813, 0.5248, 0.4812, 0.4476, 0.1918, 0.1914, 0.1908, 0.1901, 0.1892, 0.1886, 0.1879, 0.1861, 0.8256, 0.7174, 0.6825, 0.6555, 0.6274, 0.6047, 0.5894, 0.5777, 0.5665, 0.2452, 0.2418, 0.2388, 0.2369, 0.2351, 0.2339, 0.2272, 0.2232, 0.2217, 0.0097, 0.0097, 0.0096, 0.0096, 0.0095, 0.0095, 0.0094, 0.0094, 0.0094, 0.0093, 0.0092, 0.0091],\n",
        "    'categorical_accuracy': [0.7128, 0.8408, 0.8656, 0.8816, 0.8931, 0.9007, 0.9065, 0.9112, 0.9149, 0.8839, 0.8840, 0.8841, 0.8843, 0.8845, 0.8846, 0.8848, 0.8854, 0.8982, 0.9078, 0.9107, 0.9130, 0.9155, 0.9176, 0.9189, 0.9198, 0.9208, 0.9421, 0.9427, 0.9432, 0.9434, 0.9436, 0.9438, 0.9450, 0.9456, 0.9458, 0.9459, 0.9461, 0.9463, 0.9465, 0.9467, 0.9469, 0.9471, 0.9471, 0.9473, 0.9479, 0.9481, 0.9483],\n",
        "    'val_loss': [0.1653, 0.1138, 0.0646, 0.0382, 0.0311, 0.0279, 0.0250, 0.0238, 0.0219, 0.0327, 0.0326, 0.0325, 0.0322, 0.0322, 0.0323, 0.0321, 0.0316, 0.0245, 0.0238, 0.0227, 0.0217, 0.0217, 0.0207, 0.0211, 0.0195, 0.0187, 0.0129, 0.0126, 0.0127, 0.0124, 0.0129, 0.0124, 0.0119, 0.0116, 0.0118, 0.0116, 0.0116, 0.0116, 0.0115, 0.0115, 0.0115, 0.0113, 0.0113, 0.0113, 0.0111, 0.0111, 0.0110],\n",
        "    'val_categorical_accuracy': [0.7022, 0.7671, 0.8281, 0.8693, 0.8857, 0.8932, 0.9004, 0.9016, 0.9073, 0.8704, 0.8707, 0.8707, 0.8713, 0.8715, 0.8711, 0.8714, 0.8729, 0.9001, 0.9020, 0.9047, 0.9054, 0.9049, 0.9084, 0.9065, 0.9107, 0.9129, 0.9347, 0.9359, 0.9354, 0.9365, 0.9346, 0.9363, 0.9385, 0.9396, 0.9387, 0.9394, 0.9396, 0.9397, 0.9400, 0.9401, 0.9400, 0.9406, 0.9405, 0.9406, 0.9415, 0.9416, 0.9418],\n",
        "    'lr': [0.0010] * 9 + [2.5000e-04] * 8 + [0.0010] * 9 + [5.0000e-04] * 9 + [2.5000e-04] * 12\n",
        "}\n",
        "\n"
      ]
    },
    {
      "cell_type": "code",
      "execution_count": null,
      "metadata": {
        "id": "v_eleQH8VyNR",
        "colab": {
          "base_uri": "https://localhost:8080/",
          "height": 451
        },
        "outputId": "c07aeefc-e802-4e68-b40c-b060b4c3c5d9"
      },
      "outputs": [
        {
          "output_type": "display_data",
          "data": {
            "text/plain": [
              "<Figure size 800x500 with 1 Axes>"
            ],
            "image/png": "[encoded data removed]"
          },
          "metadata": {}
        }
      ],
      "source": [
        "import pandas as pd\n",
        "from matplotlib import pyplot as plt\n",
        "\n",
        "pd.DataFrame(history).plot(figsize=(8, 5))\n",
        "plt.grid(True)\n",
        "plt.gca().set_ylim(0, 1)\n",
        "plt.savefig(\"/content/drive/MyDrive/Lume/road_mapper_dnn/src/results_6classes_curvegraph.png\",format='png')\n",
        "plt.show()"
      ]
    },
    {
      "cell_type": "code",
      "execution_count": null,
      "metadata": {
        "colab": {
          "base_uri": "https://localhost:8080/",
          "height": 927
        },
        "id": "iVibZ6c1ao7P",
        "outputId": "cc8509f2-46e9-4fb7-892b-cdf90d3006e2"
      },
      "outputs": [
        {
          "output_type": "display_data",
          "data": {
            "text/plain": [
              "<Figure size 640x480 with 1 Axes>"
            ],
            "image/png": "[encoded data removed]"
          },
          "metadata": {}
        },
        {
          "output_type": "display_data",
          "data": {
            "text/plain": [
              "<Figure size 640x480 with 1 Axes>"
            ],
            "image/png": "[encoded data removed]"
          },
          "metadata": {}
        }
      ],
      "source": [
        "from matplotlib import pyplot as plt\n",
        "\n",
        "loss = history['loss']\n",
        "val_loss = history['val_loss']\n",
        "epochs = range(1, len(loss) + 1)\n",
        "plt.plot(epochs, loss, 'y', label='Training loss')\n",
        "plt.plot(epochs, val_loss, 'r', label='Validation loss')\n",
        "plt.title('Training and validation loss')\n",
        "plt.xlabel('Epochs')\n",
        "plt.ylabel('Loss')\n",
        "plt.legend()\n",
        "plt.savefig('/content/drive/MyDrive/Lume/road_mapper_dnn/src/results_6classes_loss.png', format='png')\n",
        "plt.show()\n",
        "\n",
        "acc = history['categorical_accuracy']\n",
        "val_acc = history['val_categorical_accuracy']\n",
        "\n",
        "plt.plot(epochs, acc, 'y', label='Training Accuracy')\n",
        "plt.plot(epochs, val_acc, 'r', label='Validation Accuracy')\n",
        "plt.title('Training and validation Accuracy')\n",
        "plt.xlabel('Epochs')\n",
        "plt.ylabel('Accuracy')\n",
        "plt.legend()\n",
        "plt.savefig('/content/drive/MyDrive/Lume/road_mapper_dnn/src/results_6classes_acc.png', format='png')\n",
        "plt.show()"
      ]
    },
    {
      "cell_type": "code",
      "source": [
        "lr = history['lr']\n",
        "epochs = range(1, len(loss) + 1)\n",
        "plt.plot(epochs, lr, 'r')\n",
        "plt.title('LR in training')\n",
        "plt.xlabel('Epochs')\n",
        "plt.ylabel('LR')\n",
        "plt.legend()\n",
        "plt.savefig('/content/drive/MyDrive/Lume/road_mapper_dnn/src/results_6classes_lr.png', format='png')\n",
        "plt.show()\n"
      ],
      "metadata": {
        "colab": {
          "base_uri": "https://localhost:8080/",
          "height": 489
        },
        "id": "ZFpr4CsHcFIY",
        "outputId": "b01de828-f9c3-4cff-8bd9-1a6e30d23825"
      },
      "execution_count": null,
      "outputs": [
        {
          "output_type": "stream",
          "name": "stderr",
          "text": [
            "WARNING:matplotlib.legend:No artists with labels found to put in legend.  Note that artists whose label start with an underscore are ignored when legend() is called with no argument.\n"
          ]
        },
        {
          "output_type": "display_data",
          "data": {
            "text/plain": [
              "<Figure size 640x480 with 1 Axes>"
            ],
            "image/png": "[encoded data removed]"
          },
          "metadata": {}
        }
      ]
    },
    {
      "cell_type": "code",
      "execution_count": null,
      "metadata": {
        "id": "RO7ACKoBapui"
      },
      "outputs": [],
      "source": [
        "# Load do modelo salvo\n",
        "from keras.models import load_model\n",
        "model = load_model(\"/content/drive/MyDrive/Lume/road_mapper_dnn/T_111223_6classes/checkpoint_model_111223\", compile=False)\n",
        "fold = 0"
      ]
    },
    {
      "cell_type": "markdown",
      "metadata": {
        "id": "J6SLtEE7nxQZ"
      },
      "source": [
        "## Teste e avaliação de métricas\n"
      ]
    },
    {
      "cell_type": "markdown",
      "source": [
        "### **Importando Bibliotecas**"
      ],
      "metadata": {
        "id": "uL2XfLvn3-D8"
      }
    },
    {
      "cell_type": "code",
      "execution_count": null,
      "metadata": {
        "id": "36-S_yxOTs5q"
      },
      "outputs": [],
      "source": [
        "import datetime\n",
        "from tensorflow.keras.utils import to_categorical\n",
        "import numpy as np"
      ]
    },
    {
      "cell_type": "code",
      "execution_count": null,
      "metadata": {
        "id": "wo6pPSyKTtY-"
      },
      "outputs": [],
      "source": [
        "from sklearn.metrics import roc_curve, roc_auc_score, confusion_matrix, ConfusionMatrixDisplay, RocCurveDisplay, classification_report\n",
        "from sklearn.metrics import mean_squared_error, balanced_accuracy_score, precision_score, recall_score, f1_score, jaccard_score"
      ]
    },
    {
      "cell_type": "markdown",
      "metadata": {
        "id": "CLeIic7cUBTM"
      },
      "source": [
        "### **Importando e Tratando dados**"
      ]
    },
    {
      "cell_type": "code",
      "execution_count": null,
      "metadata": {
        "id": "_IOLhUtzUAyo"
      },
      "outputs": [],
      "source": [
        "from sklearn.preprocessing import LabelEncoder\n",
        "def labelencoder(train_masks):\n",
        "    labelencoder = LabelEncoder()\n",
        "    n, h, w = train_masks.shape[:3]\n",
        "    train_masks_reshaped = train_masks.reshape(-1,1)\n",
        "    train_masks_reshaped_encoded = labelencoder.fit_transform(train_masks_reshaped)\n",
        "    train_masks_encoded_original_shape = train_masks_reshaped_encoded.reshape(n, h, w)\n",
        "\n",
        "#     print(\"encoder concluido\")\n",
        "#     return np.expand_dims(train_masks_encoded_original_shape, axis=3)\n",
        "    return train_masks_encoded_original_shape"
      ]
    },
    {
      "cell_type": "code",
      "execution_count": null,
      "metadata": {
        "id": "njji3UCDUETk"
      },
      "outputs": [],
      "source": [
        "def tocat(y, n_classes):\n",
        "    train_masks_cat = to_categorical(y, num_classes=n_classes)\n",
        "    return train_masks_cat.reshape((y.shape[0], y.shape[1], y.shape[2], n_classes))"
      ]
    },
    {
      "cell_type": "code",
      "execution_count": null,
      "metadata": {
        "id": "rOVmag5QnxQZ"
      },
      "outputs": [],
      "source": [
        "# Importando dados de teste\n",
        "import pickle\n",
        "\n",
        "try:\n",
        "    arquivo = open(\"/kaggle/input/test-dataset/test_imgs.bin\", \"rb\")\n",
        "    X_test = pickle.load(arquivo)\n",
        "    arquivo.close()\n",
        "except:\n",
        "    print(\"Problemas com o arquivo treinox.\")\n",
        "\n",
        "try:\n",
        "    arquivo = open(\"/kaggle/input/test-dataset/test_masks_NE.bin\", \"rb\")\n",
        "    Y_test = pickle.load(arquivo)\n",
        "    arquivo.close()\n",
        "except:\n",
        "    print(\"Problemas com o arquivo treinox.\")\n",
        "\n",
        "Y_test = tocat(Y_test[:1280], 17)"
      ]
    },
    {
      "cell_type": "code",
      "execution_count": null,
      "metadata": {
        "id": "qIKQdIAXnxQa"
      },
      "outputs": [],
      "source": [
        "import json\n",
        "from tensorflow.keras.utils import to_categorical\n",
        "import pandas as pd\n",
        "import numpy as np\n",
        "from keras.utils import normalize\n",
        "\n",
        "\n",
        "def test_data_generator(pos_ini, mode):\n",
        "  test_df = \"/content/drive/MyDrive/Lume/road_mapper_dnn/dataset6classes_teste.csv\"\n",
        "\n",
        "  df = pd.read_csv(\n",
        "                    test_df, skiprows=pos_ini, nrows=1)\n",
        "  n_classes=6\n",
        "  for i in range(0, len(df)):\n",
        "      x = json.loads(df.iloc[i,0])\n",
        "      y =json.loads(df.iloc[i,1])\n",
        "\n",
        "  if mode=='x':\n",
        "    x = normalize(x, axis=1)\n",
        "    return np.asarray(x)\n",
        "  elif mode=='y':\n",
        "    return np.asarray(y)\n",
        "\n",
        "  return None"
      ]
    },
    {
      "cell_type": "code",
      "execution_count": null,
      "metadata": {
        "id": "d8PWJHuOmCcB"
      },
      "outputs": [],
      "source": [
        "# x_test = test_data_generator(0, 'x')\n",
        "# y_test = test_data_generator(0, )"
      ]
    },
    {
      "cell_type": "markdown",
      "metadata": {
        "id": "XRATDf3OUK8K"
      },
      "source": [
        "### **Acurácia e F1 Score**\n",
        "\n",
        "- **Acurácia (Accuracy)**:\n",
        "   - A acurácia é uma métrica de avaliação comum em problemas de classificação.\n",
        "   - Ela mede a proporção de previsões corretas feitas pelo modelo em relação ao número total de previsões.\n",
        "   - A fórmula para a acurácia é: $$ \\text{Acurácia} = \\frac{\\text{Verdadeiros Positivos} + \\text{Verdadeiros Negativos}}{\\text{Verdadeiros Positivos} + \\text{Falsos Positivos} + \\text{Verdadeiros Negativos} + \\text{Falsos Negativos}} $$.\n",
        "   - A acurácia é simples de entender, mas pode ser enganosa em conjuntos de dados desequilibrados, onde uma classe é muito mais comum do que outras, pois o modelo pode atingir uma alta acurácia simplesmente prevendo a classe majoritária.\n",
        "\n",
        "\n",
        "        \n",
        "- **F1-Score**:\n",
        "   - O F1-Score é uma métrica que leva em consideração tanto a precisão quanto o recall (revocação) e é útil em problemas de classificação desequilibrados.\n",
        "   - O F1-Score é a média harmônica da precisão e do recall e é calculado pela fórmula: $$ F1 = \\frac{2 \\times \\text{Precisão} \\times \\text{Revocação}}{\\text{Precisão} + \\text{Revocação}} $$.\n",
        "   - A precisão mede a proporção de previsões positivas corretas, enquanto o recall mede a capacidade do modelo de identificar todos os casos positivos.\n",
        "   - O F1-Score é especialmente útil quando você deseja encontrar um equilíbrio entre a precisão e o recall, pois leva em consideração tanto os falsos positivos quanto os falsos negativos.\n",
        "\n",
        "Em resumo, a acurácia mede a proporção de previsões corretas, enquanto o F1-Score é uma métrica que combina precisão e recall, útil em problemas de classificação desequilibrados. A escolha entre essas métricas depende do contexto e dos objetivos específicos de avaliação do seu modelo de aprendizado de máquina."
      ]
    },
    {
      "cell_type": "code",
      "execution_count": null,
      "metadata": {
        "id": "OS6TXvKijB47"
      },
      "outputs": [],
      "source": [
        "accuracy_list = []\n",
        "f1_list = []"
      ]
    },
    {
      "cell_type": "code",
      "execution_count": 62,
      "metadata": {
        "colab": {
          "base_uri": "https://localhost:8080/",
          "height": 384
        },
        "id": "UNuftNH18ZoY",
        "outputId": "0fca5b4b-6b2c-4d53-80f8-f33ebeabe505"
      },
      "outputs": [
        {
          "output_type": "stream",
          "name": "stderr",
          "text": [
            "Processing..: 100%|█████████▉| 499/500 [1:00:00<00:07,  7.22s/it]\n"
          ]
        },
        {
          "output_type": "error",
          "ename": "UnboundLocalError",
          "evalue": "ignored",
          "traceback": [
            "\u001b[0;31m---------------------------------------------------------------------------\u001b[0m",
            "\u001b[0;31mUnboundLocalError\u001b[0m                         Traceback (most recent call last)",
            "\u001b[0;32m<ipython-input-62-8e3a574f7ee3>\u001b[0m in \u001b[0;36m<cell line: 18>\u001b[0;34m()\u001b[0m\n\u001b[1;32m     19\u001b[0m \u001b[0;34m\u001b[0m\u001b[0m\n\u001b[1;32m     20\u001b[0m     \u001b[0;31m# Gera os dados\u001b[0m\u001b[0;34m\u001b[0m\u001b[0;34m\u001b[0m\u001b[0m\n\u001b[0;32m---> 21\u001b[0;31m     \u001b[0my_pred\u001b[0m \u001b[0;34m=\u001b[0m \u001b[0mmodel\u001b[0m\u001b[0;34m.\u001b[0m\u001b[0mpredict\u001b[0m\u001b[0;34m(\u001b[0m\u001b[0mtest_data_generator\u001b[0m\u001b[0;34m(\u001b[0m\u001b[0mi\u001b[0m\u001b[0;34m,\u001b[0m \u001b[0;34m'x'\u001b[0m\u001b[0;34m)\u001b[0m\u001b[0;34m,\u001b[0m \u001b[0mverbose\u001b[0m\u001b[0;34m=\u001b[0m\u001b[0;36m0\u001b[0m\u001b[0;34m)\u001b[0m\u001b[0;34m\u001b[0m\u001b[0;34m\u001b[0m\u001b[0m\n\u001b[0m\u001b[1;32m     22\u001b[0m     \u001b[0mY_test\u001b[0m \u001b[0;34m=\u001b[0m \u001b[0mtest_data_generator\u001b[0m\u001b[0;34m(\u001b[0m\u001b[0mi\u001b[0m\u001b[0;34m,\u001b[0m \u001b[0;34m'y'\u001b[0m\u001b[0;34m)\u001b[0m\u001b[0;34m\u001b[0m\u001b[0;34m\u001b[0m\u001b[0m\n\u001b[1;32m     23\u001b[0m     \u001b[0;31m# print(test_data_generator(i, 'y'))\u001b[0m\u001b[0;34m\u001b[0m\u001b[0;34m\u001b[0m\u001b[0m\n",
            "\u001b[0;32m<ipython-input-14-79bd973459ea>\u001b[0m in \u001b[0;36mtest_data_generator\u001b[0;34m(pos_ini, mode)\u001b[0m\n\u001b[1;32m     17\u001b[0m \u001b[0;34m\u001b[0m\u001b[0m\n\u001b[1;32m     18\u001b[0m   \u001b[0;32mif\u001b[0m \u001b[0mmode\u001b[0m\u001b[0;34m==\u001b[0m\u001b[0;34m'x'\u001b[0m\u001b[0;34m:\u001b[0m\u001b[0;34m\u001b[0m\u001b[0;34m\u001b[0m\u001b[0m\n\u001b[0;32m---> 19\u001b[0;31m     \u001b[0mx\u001b[0m \u001b[0;34m=\u001b[0m \u001b[0mnormalize\u001b[0m\u001b[0;34m(\u001b[0m\u001b[0mx\u001b[0m\u001b[0;34m,\u001b[0m \u001b[0maxis\u001b[0m\u001b[0;34m=\u001b[0m\u001b[0;36m1\u001b[0m\u001b[0;34m)\u001b[0m\u001b[0;34m\u001b[0m\u001b[0;34m\u001b[0m\u001b[0m\n\u001b[0m\u001b[1;32m     20\u001b[0m     \u001b[0;32mreturn\u001b[0m \u001b[0mnp\u001b[0m\u001b[0;34m.\u001b[0m\u001b[0masarray\u001b[0m\u001b[0;34m(\u001b[0m\u001b[0mx\u001b[0m\u001b[0;34m)\u001b[0m\u001b[0;34m\u001b[0m\u001b[0;34m\u001b[0m\u001b[0m\n\u001b[1;32m     21\u001b[0m   \u001b[0;32melif\u001b[0m \u001b[0mmode\u001b[0m\u001b[0;34m==\u001b[0m\u001b[0;34m'y'\u001b[0m\u001b[0;34m:\u001b[0m\u001b[0;34m\u001b[0m\u001b[0;34m\u001b[0m\u001b[0m\n",
            "\u001b[0;31mUnboundLocalError\u001b[0m: local variable 'x' referenced before assignment"
          ]
        }
      ],
      "source": [
        "from sklearn.metrics import accuracy_score, f1_score, roc_auc_score\n",
        "from tqdm import tqdm\n",
        "from scipy.special import softmax\n",
        "\n",
        "n_classes=6\n",
        "num_imgs = int(2000//4)\n",
        "# num_imgs = 10\n",
        "batch_size = 1\n",
        "all_predict = []\n",
        "all_gt = []\n",
        "all_prob = []\n",
        "accuracy_list = []\n",
        "f1_list = []\n",
        "prec_list = []\n",
        "recall_list = []\n",
        "\n",
        "\n",
        "for i in tqdm(range(1500, 2000), desc=\"Processing..\"):\n",
        "\n",
        "    # Gera os dados\n",
        "    y_pred = model.predict(test_data_generator(i, 'x'), verbose=0)\n",
        "    Y_test = test_data_generator(i, 'y')\n",
        "    # print(test_data_generator(i, 'y'))\n",
        "\n",
        "    # Retorna o indice de maior valor (o que refere-se ao numero da classe)\n",
        "    y_pred_argmax=np.argmax(y_pred, axis=3)\n",
        "\n",
        "    # # Salvar probabilidades\n",
        "    # class_probabilities = tf.nn.softmax(y_pred, axis=-1).numpy()\n",
        "\n",
        "    # Transforma todos os valores para inteiro\n",
        "    Y_test= Y_test.astype(np.uint8)\n",
        "    y_pred= y_pred_argmax.astype(np.uint8)\n",
        "\n",
        "    # Transforma o array 3D em um array 1D\n",
        "    predictions_flat = y_pred.flatten()\n",
        "    y_flat = Y_test.flatten()\n",
        "\n",
        "    # all_prob.extend(class_probabilities)\n",
        "    all_predict.extend(predictions_flat)\n",
        "    all_gt.extend(y_flat)\n",
        "\n",
        "    # Calcula e salva o score\n",
        "    accuracy_list.append(accuracy_score(y_flat, predictions_flat))\n",
        "\n",
        "    f1 = f1_score(y_flat, predictions_flat, average='macro')\n",
        "    f1_list.append(f1)\n",
        "\n",
        "    prec_list.append(precision_score(y_flat, predictions_flat,average='macro'))\n",
        "\n",
        "    recall_list.append(recall_score(y_flat, predictions_flat, average='macro'))\n",
        "\n",
        "print('Finished!')\n",
        "\n",
        "len(accuracy_list)"
      ]
    },
    {
      "cell_type": "code",
      "execution_count": 63,
      "metadata": {
        "colab": {
          "base_uri": "https://localhost:8080/",
          "height": 81
        },
        "id": "W9oLop3O1hOz",
        "outputId": "743916ce-867d-42c4-877c-5f9b2187cb19"
      },
      "outputs": [
        {
          "output_type": "execute_result",
          "data": {
            "text/plain": [
              "         Accuracy        F1  Precision   Recall\n",
              "KFOLD 0  0.932087  0.829203   0.832054  0.82727"
            ],
            "text/html": [
              "\n",
              "  <div id=\"df-72864764-130d-4e83-b7f7-bdfe5dd7b038\" class=\"colab-df-container\">\n",
              "    <div>\n",
              "<style scoped>\n",
              "    .dataframe tbody tr th:only-of-type {\n",
              "        vertical-align: middle;\n",
              "    }\n",
              "\n",
              "    .dataframe tbody tr th {\n",
              "        vertical-align: top;\n",
              "    }\n",
              "\n",
              "    .dataframe thead th {\n",
              "        text-align: right;\n",
              "    }\n",
              "</style>\n",
              "<table border=\"1\" class=\"dataframe\">\n",
              "  <thead>\n",
              "    <tr style=\"text-align: right;\">\n",
              "      <th></th>\n",
              "      <th>Accuracy</th>\n",
              "      <th>F1</th>\n",
              "      <th>Precision</th>\n",
              "      <th>Recall</th>\n",
              "    </tr>\n",
              "  </thead>\n",
              "  <tbody>\n",
              "    <tr>\n",
              "      <th>KFOLD 0</th>\n",
              "      <td>0.932087</td>\n",
              "      <td>0.829203</td>\n",
              "      <td>0.832054</td>\n",
              "      <td>0.82727</td>\n",
              "    </tr>\n",
              "  </tbody>\n",
              "</table>\n",
              "</div>\n",
              "    <div class=\"colab-df-buttons\">\n",
              "\n",
              "  <div class=\"colab-df-container\">\n",
              "    <button class=\"colab-df-convert\" onclick=\"convertToInteractive('df-72864764-130d-4e83-b7f7-bdfe5dd7b038')\"\n",
              "            title=\"Convert this dataframe to an interactive table.\"\n",
              "            style=\"display:none;\">\n",
              "\n",
              "  <svg xmlns=\"http://www.w3.org/2000/svg\" height=\"24px\" viewBox=\"0 -960 960 960\">\n",
              "    <path d=\"M120-120v-720h720v720H120Zm60-500h600v-160H180v160Zm220 220h160v-160H400v160Zm0 220h160v-160H400v160ZM180-400h160v-160H180v160Zm440 0h160v-160H620v160ZM180-180h160v-160H180v160Zm440 0h160v-160H620v160Z\"/>\n",
              "  </svg>\n",
              "    </button>\n",
              "\n",
              "  <style>\n",
              "    .colab-df-container {\n",
              "      display:flex;\n",
              "      gap: 12px;\n",
              "    }\n",
              "\n",
              "    .colab-df-convert {\n",
              "      background-color: #E8F0FE;\n",
              "      border: none;\n",
              "      border-radius: 50%;\n",
              "      cursor: pointer;\n",
              "      display: none;\n",
              "      fill: #1967D2;\n",
              "      height: 32px;\n",
              "      padding: 0 0 0 0;\n",
              "      width: 32px;\n",
              "    }\n",
              "\n",
              "    .colab-df-convert:hover {\n",
              "      background-color: #E2EBFA;\n",
              "      box-shadow: 0px 1px 2px rgba(60, 64, 67, 0.3), 0px 1px 3px 1px rgba(60, 64, 67, 0.15);\n",
              "      fill: #174EA6;\n",
              "    }\n",
              "\n",
              "    .colab-df-buttons div {\n",
              "      margin-bottom: 4px;\n",
              "    }\n",
              "\n",
              "    [theme=dark] .colab-df-convert {\n",
              "      background-color: #3B4455;\n",
              "      fill: #D2E3FC;\n",
              "    }\n",
              "\n",
              "    [theme=dark] .colab-df-convert:hover {\n",
              "      background-color: #434B5C;\n",
              "      box-shadow: 0px 1px 3px 1px rgba(0, 0, 0, 0.15);\n",
              "      filter: drop-shadow(0px 1px 2px rgba(0, 0, 0, 0.3));\n",
              "      fill: #FFFFFF;\n",
              "    }\n",
              "  </style>\n",
              "\n",
              "    <script>\n",
              "      const buttonEl =\n",
              "        document.querySelector('#df-72864764-130d-4e83-b7f7-bdfe5dd7b038 button.colab-df-convert');\n",
              "      buttonEl.style.display =\n",
              "        google.colab.kernel.accessAllowed ? 'block' : 'none';\n",
              "\n",
              "      async function convertToInteractive(key) {\n",
              "        const element = document.querySelector('#df-72864764-130d-4e83-b7f7-bdfe5dd7b038');\n",
              "        const dataTable =\n",
              "          await google.colab.kernel.invokeFunction('convertToInteractive',\n",
              "                                                    [key], {});\n",
              "        if (!dataTable) return;\n",
              "\n",
              "        const docLinkHtml = 'Like what you see? Visit the ' +\n",
              "          '<a target=\"_blank\" href=https://colab.research.google.com/notebooks/data_table.ipynb>data table notebook</a>'\n",
              "          + ' to learn more about interactive tables.';\n",
              "        element.innerHTML = '';\n",
              "        dataTable['output_type'] = 'display_data';\n",
              "        await google.colab.output.renderOutput(dataTable, element);\n",
              "        const docLink = document.createElement('div');\n",
              "        docLink.innerHTML = docLinkHtml;\n",
              "        element.appendChild(docLink);\n",
              "      }\n",
              "    </script>\n",
              "  </div>\n",
              "\n",
              "\n",
              "    </div>\n",
              "  </div>\n"
            ]
          },
          "metadata": {},
          "execution_count": 63
        }
      ],
      "source": [
        "medias_evaluation = {\"Accuracy\": [sum(accuracy_list)/len(accuracy_list)], \"F1\": [sum(f1_list)/len(f1_list)], \"Precision\": [sum(prec_list)/len(prec_list)], \"Recall\": [sum(recall_list)/len(recall_list)]}\n",
        "pd.DataFrame(medias_evaluation, index=[\"KFOLD \"+str(fold)])"
      ]
    },
    {
      "cell_type": "code",
      "execution_count": null,
      "metadata": {
        "id": "qOqV0rldygj-"
      },
      "outputs": [],
      "source": [
        "import pickle\n",
        "try:\n",
        "  with open('/content/drive/MyDrive/ROAD_MAPPER_DNN/metrics_0611.txt', 'w') as arquivo:\n",
        "      # Adiciona mais conteúdo ao arquivo\n",
        "        arquivo.write(str(medias_evaluation))\n",
        "except:\n",
        "    print(\"Problemas com o arquivo treino.\")\n"
      ]
    },
    {
      "cell_type": "markdown",
      "metadata": {
        "id": "p5wRZ9IbWMmP"
      },
      "source": [
        "### **Matriz de Confusão**\n",
        "Uma matriz de confusão (confusion matrix) é uma tabela que é usada em problemas de classificação para avaliar o desempenho de um modelo de aprendizado de máquina. Ela é frequentemente usada para resumir o desempenho de um algoritmo de classificação em relação a um conjunto de dados de teste no qual os rótulos verdadeiros são conhecidos.\n",
        "\n",
        "Uma matriz de confusão tem as seguintes quatro entradas principais:\n",
        "\n",
        "**Verdadeiro Positivo (True Positive - TP):** Representa os casos em que o modelo classificou corretamente uma instância como positiva (classe de interesse) quando ela realmente era positiva.\n",
        "\n",
        "**Falso Positivo (False Positive - FP):** Representa os casos em que o modelo classificou erroneamente uma instância como positiva quando na verdade era negativa (uma espécie de erro do tipo I).\n",
        "\n",
        "**Verdadeiro Negativo (True Negative - TN):** Representa os casos em que o modelo classificou corretamente uma instância como negativa quando ela realmente era negativa.\n",
        "\n",
        "**Falso Negativo (False Negative - FN):** Representa os casos em que o modelo classificou erroneamente uma instância como negativa quando na verdade era positiva (uma espécie de erro do tipo II).\n",
        "\n",
        "O desempenho de um modelo de classificação pode ser avaliado examinando os valores na matriz de confusão, permitindo que você entenda como o modelo está classificando as instâncias em diferentes categorias e identifique possíveis áreas de melhoria no modelo."
      ]
    },
    {
      "cell_type": "code",
      "execution_count": 64,
      "metadata": {
        "id": "uBb5dqTFrqiA"
      },
      "outputs": [],
      "source": [
        "from sklearn.metrics import confusion_matrix\n",
        "cm_geral = confusion_matrix(all_gt, all_predict)\n"
      ]
    },
    {
      "cell_type": "code",
      "execution_count": 65,
      "metadata": {
        "colab": {
          "base_uri": "https://localhost:8080/",
          "height": 472
        },
        "id": "Ef-J2Xd2SNFe",
        "outputId": "c95448c9-5dad-4150-cc59-385a53c082fe"
      },
      "outputs": [
        {
          "output_type": "display_data",
          "data": {
            "text/plain": [
              "<Figure size 640x480 with 2 Axes>"
            ],
            "image/png": "[encoded data removed]"
          },
          "metadata": {}
        }
      ],
      "source": [
        "import seaborn as sns\n",
        "import matplotlib.pyplot as plt\n",
        "\n",
        "sns.heatmap(cm_geral, annot=False, fmt='d', cmap='crest')\n",
        "plt.title('Matriz de Confusão de Teste')\n",
        "plt.xlabel('Valor Predito')\n",
        "plt.ylabel('Valor Real')\n",
        "plt.savefig('kfold'+str(fold)+'_0711_mc.png', format='png')\n",
        "plt.show()\n"
      ]
    },
    {
      "cell_type": "code",
      "execution_count": null,
      "metadata": {
        "colab": {
          "base_uri": "https://localhost:8080/",
          "height": 1000
        },
        "id": "b_SF6IU38cxw",
        "outputId": "5dfc7284-2321-41e6-b147-5743a9585cdc"
      },
      "outputs": [
        {
          "output_type": "display_data",
          "data": {
            "text/plain": [
              "<Figure size 640x480 with 1 Axes>"
            ],
            "image/png": "[encoded data removed]"
          },
          "metadata": {}
        },
        {
          "output_type": "display_data",
          "data": {
            "text/plain": [
              "<Figure size 640x480 with 1 Axes>"
            ],
            "image/png": "[encoded data removed]"
          },
          "metadata": {}
        },
        {
          "output_type": "display_data",
          "data": {
            "text/plain": [
              "<Figure size 640x480 with 1 Axes>"
            ],
            "image/png": "[encoded data removed]"
          },
          "metadata": {}
        },
        {
          "output_type": "display_data",
          "data": {
            "text/plain": [
              "<Figure size 640x480 with 1 Axes>"
            ],
            "image/png": "[encoded data removed]"
          },
          "metadata": {}
        },
        {
          "output_type": "display_data",
          "data": {
            "text/plain": [
              "<Figure size 640x480 with 1 Axes>"
            ],
            "image/png": "[encoded data removed]"
          },
          "metadata": {}
        },
        {
          "output_type": "display_data",
          "data": {
            "text/plain": [
              "<Figure size 640x480 with 1 Axes>"
            ],
            "image/png": "[encoded data removed]"
          },
          "metadata": {}
        }
      ],
      "source": [
        "import numpy as np\n",
        "import matplotlib.pyplot as plt\n",
        "from sklearn.metrics import confusion_matrix\n",
        "import seaborn as sns\n",
        "\n",
        "# y_flat, predictions_flat\n",
        "# Lista de classes únicas.\n",
        "classes = np.unique(all_gt)\n",
        "ts = 0.5\n",
        "\n",
        "# Calcula e plota matrizes de confusão personalizadas para cada classe.\n",
        "for classe_interesse in classes:\n",
        "    # Inicializa a matriz de confusão personalizada.\n",
        "    cm_custom = np.zeros((2, 2), dtype=int)\n",
        "\n",
        "\n",
        "    for i in range(len(all_gt)):\n",
        "        verdadeiro = all_gt[i]\n",
        "        previsto = all_predict[i]\n",
        "        # prob = all_prob[i]\n",
        "\n",
        "        if verdadeiro == classe_interesse and previsto == classe_interesse:\n",
        "            cm_custom[0, 0] += 1  # Verdadeiros positivos\n",
        "        elif verdadeiro == classe_interesse and previsto != classe_interesse:\n",
        "            cm_custom[0, 1] += 1  # Falsos negativos\n",
        "        elif verdadeiro != classe_interesse and previsto == classe_interesse:\n",
        "            cm_custom[1, 0] += 1  # Falsos positivos\n",
        "        else:\n",
        "            cm_custom[1, 1] += 1  # Verdadeiros negativos\n",
        "\n",
        "    # accuracy_custom = (cm_custom[0, 0]+cm_custom[1, 1])/(cm_custom[0, 0]+cm_custom[1, 1]+cm_custom[1, 0]+cm_custom[0, 1])\n",
        "    # print('accuracy_custom para a classe '+str(classe_interesse)+' :'+str(accuracy_custom))\n",
        "\n",
        "    # Plota a matriz de confusão personalizada.\n",
        "    plt.figure()\n",
        "    sns.heatmap(cm_custom, annot=True, fmt='d', cmap='Blues', cbar=False)\n",
        "    plt.title(f'Matriz de Confusão - Classe de Interesse {classe_interesse}')\n",
        "    plt.xlabel('Previsto')\n",
        "    plt.ylabel('Verdadeiro')\n",
        "    # plt.savefig('/content/drive/MyDrive/Lume/road_mapper_dnn/kfold_model_22_11/src/kfold'+str(fold)+'_0711_mc_classe' + str(classe_interesse) + '.png', format='png')\n",
        "    plt.show()"
      ]
    },
    {
      "cell_type": "markdown",
      "metadata": {
        "id": "yshPKa2_WY-G"
      },
      "source": [
        "### **IOU** - \"Intersection over Union\" (Interseção sobre União)\n",
        "A IOU é uma medida que quantifica a sobreposição entre a caixa delimitadora (bounding box) prevista por um modelo e a caixa delimitadora verdadeira (ground truth) do objeto na imagem.\n",
        "\n",
        "A fórmula da IOU é a seguinte:\n",
        "\n",
        "$$IOU = \\frac{Área\\ da\\ Interseção}{Área\\ da\\ União} = \\frac{|T*P|}{|T+P-(T*P)|}$$\n",
        "\n",
        "- A \"Área da Interseção\" é a área comum entre a caixa delimitadora prevista pelo modelo e a caixa delimitadora verdadeira.\n",
        "- A \"Área da União\" é a área total coberta pelas duas caixas delimitadoras.\n",
        "\n",
        "O valor da IOU varia de 0 a 1, onde 0 indica nenhuma sobreposição e 1 indica uma sobreposição perfeita. Em geral, quanto maior a IOU, melhor o desempenho da detecção de objetos. Um valor de corte (threshold) da IOU é frequentemente escolhido para determinar se uma detecção é considerada verdadeira ou falsa."
      ]
    },
    {
      "cell_type": "code",
      "execution_count": 66,
      "metadata": {
        "colab": {
          "base_uri": "https://localhost:8080/"
        },
        "id": "5panJLTGawJx",
        "outputId": "42e30ce5-a785-41ce-d07c-b0c48460e129"
      },
      "outputs": [
        {
          "output_type": "stream",
          "name": "stdout",
          "text": [
            "Mean IoU = 0.724648\n"
          ]
        }
      ],
      "source": [
        "#Using built in keras function\n",
        "from keras.metrics import MeanIoU\n",
        "n_classes = 6\n",
        "IOU_keras = MeanIoU(num_classes=n_classes)\n",
        "IOU_keras.update_state(all_gt, all_predict)\n",
        "print(\"Mean IoU =\", IOU_keras.result().numpy())"
      ]
    },
    {
      "cell_type": "code",
      "execution_count": null,
      "metadata": {
        "colab": {
          "base_uri": "https://localhost:8080/"
        },
        "id": "hgHHa8q9axAx",
        "outputId": "df2d81dc-a9f5-4a42-edcb-e8ca5d45abe3"
      },
      "outputs": [
        {
          "output_type": "stream",
          "name": "stdout",
          "text": [
            "[[5.174326e+06 3.792500e+04 1.310000e+02 8.530000e+02 6.030000e+02\n",
            "  4.897000e+03]\n",
            " [3.498800e+04 5.326500e+05 2.000000e+00 5.420000e+02 4.867000e+03\n",
            "  4.307300e+04]\n",
            " [2.720000e+02 5.900000e+01 3.672490e+05 6.258100e+04 1.950000e+02\n",
            "  2.100000e+01]\n",
            " [8.320000e+02 5.330000e+02 7.456200e+04 9.550790e+05 5.643300e+04\n",
            "  6.400000e+02]\n",
            " [8.140000e+02 4.992000e+03 1.430000e+02 6.232700e+04 4.078000e+05\n",
            "  4.790100e+04]\n",
            " [8.195000e+03 5.302900e+04 2.100000e+01 1.313000e+03 5.664900e+04\n",
            "  1.955030e+05]]\n"
          ]
        }
      ],
      "source": [
        "#Calculando o I0U para cada classe...\n",
        "values = np.array(IOU_keras.get_weights()).reshape(n_classes, n_classes)\n",
        "print(values)"
      ]
    },
    {
      "cell_type": "code",
      "execution_count": null,
      "metadata": {
        "colab": {
          "base_uri": "https://localhost:8080/",
          "height": 238
        },
        "id": "phQqeynfnxQa",
        "outputId": "955f5875-e430-4ec9-b8e2-2eeb7b321207"
      },
      "outputs": [
        {
          "output_type": "execute_result",
          "data": {
            "text/plain": [
              "   Classes       IoU\n",
              "0        1  0.982995\n",
              "1        2  0.747411\n",
              "2        3  0.726886\n",
              "3        4  0.785624\n",
              "4        5  0.634487\n",
              "5        6  0.475396"
            ],
            "text/html": [
              "\n",
              "  <div id=\"df-87db2b50-9643-4456-942e-0a2a87161349\" class=\"colab-df-container\">\n",
              "    <div>\n",
              "<style scoped>\n",
              "    .dataframe tbody tr th:only-of-type {\n",
              "        vertical-align: middle;\n",
              "    }\n",
              "\n",
              "    .dataframe tbody tr th {\n",
              "        vertical-align: top;\n",
              "    }\n",
              "\n",
              "    .dataframe thead th {\n",
              "        text-align: right;\n",
              "    }\n",
              "</style>\n",
              "<table border=\"1\" class=\"dataframe\">\n",
              "  <thead>\n",
              "    <tr style=\"text-align: right;\">\n",
              "      <th></th>\n",
              "      <th>Classes</th>\n",
              "      <th>IoU</th>\n",
              "    </tr>\n",
              "  </thead>\n",
              "  <tbody>\n",
              "    <tr>\n",
              "      <th>0</th>\n",
              "      <td>1</td>\n",
              "      <td>0.982995</td>\n",
              "    </tr>\n",
              "    <tr>\n",
              "      <th>1</th>\n",
              "      <td>2</td>\n",
              "      <td>0.747411</td>\n",
              "    </tr>\n",
              "    <tr>\n",
              "      <th>2</th>\n",
              "      <td>3</td>\n",
              "      <td>0.726886</td>\n",
              "    </tr>\n",
              "    <tr>\n",
              "      <th>3</th>\n",
              "      <td>4</td>\n",
              "      <td>0.785624</td>\n",
              "    </tr>\n",
              "    <tr>\n",
              "      <th>4</th>\n",
              "      <td>5</td>\n",
              "      <td>0.634487</td>\n",
              "    </tr>\n",
              "    <tr>\n",
              "      <th>5</th>\n",
              "      <td>6</td>\n",
              "      <td>0.475396</td>\n",
              "    </tr>\n",
              "  </tbody>\n",
              "</table>\n",
              "</div>\n",
              "    <div class=\"colab-df-buttons\">\n",
              "\n",
              "  <div class=\"colab-df-container\">\n",
              "    <button class=\"colab-df-convert\" onclick=\"convertToInteractive('df-87db2b50-9643-4456-942e-0a2a87161349')\"\n",
              "            title=\"Convert this dataframe to an interactive table.\"\n",
              "            style=\"display:none;\">\n",
              "\n",
              "  <svg xmlns=\"http://www.w3.org/2000/svg\" height=\"24px\" viewBox=\"0 -960 960 960\">\n",
              "    <path d=\"M120-120v-720h720v720H120Zm60-500h600v-160H180v160Zm220 220h160v-160H400v160Zm0 220h160v-160H400v160ZM180-400h160v-160H180v160Zm440 0h160v-160H620v160ZM180-180h160v-160H180v160Zm440 0h160v-160H620v160Z\"/>\n",
              "  </svg>\n",
              "    </button>\n",
              "\n",
              "  <style>\n",
              "    .colab-df-container {\n",
              "      display:flex;\n",
              "      gap: 12px;\n",
              "    }\n",
              "\n",
              "    .colab-df-convert {\n",
              "      background-color: #E8F0FE;\n",
              "      border: none;\n",
              "      border-radius: 50%;\n",
              "      cursor: pointer;\n",
              "      display: none;\n",
              "      fill: #1967D2;\n",
              "      height: 32px;\n",
              "      padding: 0 0 0 0;\n",
              "      width: 32px;\n",
              "    }\n",
              "\n",
              "    .colab-df-convert:hover {\n",
              "      background-color: #E2EBFA;\n",
              "      box-shadow: 0px 1px 2px rgba(60, 64, 67, 0.3), 0px 1px 3px 1px rgba(60, 64, 67, 0.15);\n",
              "      fill: #174EA6;\n",
              "    }\n",
              "\n",
              "    .colab-df-buttons div {\n",
              "      margin-bottom: 4px;\n",
              "    }\n",
              "\n",
              "    [theme=dark] .colab-df-convert {\n",
              "      background-color: #3B4455;\n",
              "      fill: #D2E3FC;\n",
              "    }\n",
              "\n",
              "    [theme=dark] .colab-df-convert:hover {\n",
              "      background-color: #434B5C;\n",
              "      box-shadow: 0px 1px 3px 1px rgba(0, 0, 0, 0.15);\n",
              "      filter: drop-shadow(0px 1px 2px rgba(0, 0, 0, 0.3));\n",
              "      fill: #FFFFFF;\n",
              "    }\n",
              "  </style>\n",
              "\n",
              "    <script>\n",
              "      const buttonEl =\n",
              "        document.querySelector('#df-87db2b50-9643-4456-942e-0a2a87161349 button.colab-df-convert');\n",
              "      buttonEl.style.display =\n",
              "        google.colab.kernel.accessAllowed ? 'block' : 'none';\n",
              "\n",
              "      async function convertToInteractive(key) {\n",
              "        const element = document.querySelector('#df-87db2b50-9643-4456-942e-0a2a87161349');\n",
              "        const dataTable =\n",
              "          await google.colab.kernel.invokeFunction('convertToInteractive',\n",
              "                                                    [key], {});\n",
              "        if (!dataTable) return;\n",
              "\n",
              "        const docLinkHtml = 'Like what you see? Visit the ' +\n",
              "          '<a target=\"_blank\" href=https://colab.research.google.com/notebooks/data_table.ipynb>data table notebook</a>'\n",
              "          + ' to learn more about interactive tables.';\n",
              "        element.innerHTML = '';\n",
              "        dataTable['output_type'] = 'display_data';\n",
              "        await google.colab.output.renderOutput(dataTable, element);\n",
              "        const docLink = document.createElement('div');\n",
              "        docLink.innerHTML = docLinkHtml;\n",
              "        element.appendChild(docLink);\n",
              "      }\n",
              "    </script>\n",
              "  </div>\n",
              "\n",
              "\n",
              "<div id=\"df-17c9d97c-7b65-47f9-bf68-867f37279209\">\n",
              "  <button class=\"colab-df-quickchart\" onclick=\"quickchart('df-17c9d97c-7b65-47f9-bf68-867f37279209')\"\n",
              "            title=\"Suggest charts\"\n",
              "            style=\"display:none;\">\n",
              "\n",
              "<svg xmlns=\"http://www.w3.org/2000/svg\" height=\"24px\"viewBox=\"0 0 24 24\"\n",
              "     width=\"24px\">\n",
              "    <g>\n",
              "        <path d=\"M19 3H5c-1.1 0-2 .9-2 2v14c0 1.1.9 2 2 2h14c1.1 0 2-.9 2-2V5c0-1.1-.9-2-2-2zM9 17H7v-7h2v7zm4 0h-2V7h2v10zm4 0h-2v-4h2v4z\"/>\n",
              "    </g>\n",
              "</svg>\n",
              "  </button>\n",
              "\n",
              "<style>\n",
              "  .colab-df-quickchart {\n",
              "      --bg-color: #E8F0FE;\n",
              "      --fill-color: #1967D2;\n",
              "      --hover-bg-color: #E2EBFA;\n",
              "      --hover-fill-color: #174EA6;\n",
              "      --disabled-fill-color: #AAA;\n",
              "      --disabled-bg-color: #DDD;\n",
              "  }\n",
              "\n",
              "  [theme=dark] .colab-df-quickchart {\n",
              "      --bg-color: #3B4455;\n",
              "      --fill-color: #D2E3FC;\n",
              "      --hover-bg-color: #434B5C;\n",
              "      --hover-fill-color: #FFFFFF;\n",
              "      --disabled-bg-color: #3B4455;\n",
              "      --disabled-fill-color: #666;\n",
              "  }\n",
              "\n",
              "  .colab-df-quickchart {\n",
              "    background-color: var(--bg-color);\n",
              "    border: none;\n",
              "    border-radius: 50%;\n",
              "    cursor: pointer;\n",
              "    display: none;\n",
              "    fill: var(--fill-color);\n",
              "    height: 32px;\n",
              "    padding: 0;\n",
              "    width: 32px;\n",
              "  }\n",
              "\n",
              "  .colab-df-quickchart:hover {\n",
              "    background-color: var(--hover-bg-color);\n",
              "    box-shadow: 0 1px 2px rgba(60, 64, 67, 0.3), 0 1px 3px 1px rgba(60, 64, 67, 0.15);\n",
              "    fill: var(--button-hover-fill-color);\n",
              "  }\n",
              "\n",
              "  .colab-df-quickchart-complete:disabled,\n",
              "  .colab-df-quickchart-complete:disabled:hover {\n",
              "    background-color: var(--disabled-bg-color);\n",
              "    fill: var(--disabled-fill-color);\n",
              "    box-shadow: none;\n",
              "  }\n",
              "\n",
              "  .colab-df-spinner {\n",
              "    border: 2px solid var(--fill-color);\n",
              "    border-color: transparent;\n",
              "    border-bottom-color: var(--fill-color);\n",
              "    animation:\n",
              "      spin 1s steps(1) infinite;\n",
              "  }\n",
              "\n",
              "  @keyframes spin {\n",
              "    0% {\n",
              "      border-color: transparent;\n",
              "      border-bottom-color: var(--fill-color);\n",
              "      border-left-color: var(--fill-color);\n",
              "    }\n",
              "    20% {\n",
              "      border-color: transparent;\n",
              "      border-left-color: var(--fill-color);\n",
              "      border-top-color: var(--fill-color);\n",
              "    }\n",
              "    30% {\n",
              "      border-color: transparent;\n",
              "      border-left-color: var(--fill-color);\n",
              "      border-top-color: var(--fill-color);\n",
              "      border-right-color: var(--fill-color);\n",
              "    }\n",
              "    40% {\n",
              "      border-color: transparent;\n",
              "      border-right-color: var(--fill-color);\n",
              "      border-top-color: var(--fill-color);\n",
              "    }\n",
              "    60% {\n",
              "      border-color: transparent;\n",
              "      border-right-color: var(--fill-color);\n",
              "    }\n",
              "    80% {\n",
              "      border-color: transparent;\n",
              "      border-right-color: var(--fill-color);\n",
              "      border-bottom-color: var(--fill-color);\n",
              "    }\n",
              "    90% {\n",
              "      border-color: transparent;\n",
              "      border-bottom-color: var(--fill-color);\n",
              "    }\n",
              "  }\n",
              "</style>\n",
              "\n",
              "  <script>\n",
              "    async function quickchart(key) {\n",
              "      const quickchartButtonEl =\n",
              "        document.querySelector('#' + key + ' button');\n",
              "      quickchartButtonEl.disabled = true;  // To prevent multiple clicks.\n",
              "      quickchartButtonEl.classList.add('colab-df-spinner');\n",
              "      try {\n",
              "        const charts = await google.colab.kernel.invokeFunction(\n",
              "            'suggestCharts', [key], {});\n",
              "      } catch (error) {\n",
              "        console.error('Error during call to suggestCharts:', error);\n",
              "      }\n",
              "      quickchartButtonEl.classList.remove('colab-df-spinner');\n",
              "      quickchartButtonEl.classList.add('colab-df-quickchart-complete');\n",
              "    }\n",
              "    (() => {\n",
              "      let quickchartButtonEl =\n",
              "        document.querySelector('#df-17c9d97c-7b65-47f9-bf68-867f37279209 button');\n",
              "      quickchartButtonEl.style.display =\n",
              "        google.colab.kernel.accessAllowed ? 'block' : 'none';\n",
              "    })();\n",
              "  </script>\n",
              "</div>\n",
              "\n",
              "    </div>\n",
              "  </div>\n"
            ]
          },
          "metadata": {},
          "execution_count": 21
        }
      ],
      "source": [
        "classes_iou = {\"Classes\":[], \"IoU\": []}\n",
        "for i in range(n_classes):\n",
        "    class_iou = values[i,i]\n",
        "    soma_iou = 0.0\n",
        "    for j in range(n_classes):\n",
        "        if i==j:\n",
        "            soma_iou += values[i,i]\n",
        "        else:\n",
        "            soma_iou += values[i,j]\n",
        "            soma_iou += values[j,i]\n",
        "\n",
        "    class_iou = class_iou/soma_iou\n",
        "    classes_iou[\"Classes\"].append(i+1)\n",
        "    classes_iou[\"IoU\"].append(class_iou)\n",
        "\n",
        "pd.DataFrame(classes_iou)"
      ]
    },
    {
      "cell_type": "code",
      "source": [
        "class_weights_iou = {}\n",
        "\n",
        "for i in range(len(classes_iou[\"IoU\"])):\n",
        "  class_weights_iou[i] = (1-classes_iou[\"IoU\"][i])*100\n",
        "\n",
        "class_weights_iou"
      ],
      "metadata": {
        "colab": {
          "base_uri": "https://localhost:8080/"
        },
        "id": "gXr_L4ZRKKYi",
        "outputId": "70040846-d8e2-4557-9887-9e69482189ce"
      },
      "execution_count": null,
      "outputs": [
        {
          "output_type": "execute_result",
          "data": {
            "text/plain": [
              "{0: 1.7901638746203208,\n",
              " 1: 26.06609640709161,\n",
              " 2: 29.093823049153457,\n",
              " 3: 22.138270661098215,\n",
              " 4: 36.90413262854398,\n",
              " 5: 56.70105216005602}"
            ]
          },
          "metadata": {},
          "execution_count": 54
        }
      ]
    },
    {
      "cell_type": "markdown",
      "metadata": {
        "id": "S8lcDK5ZWhdr"
      },
      "source": [
        "## Visualizando os Resultados - Plotando imagens"
      ]
    },
    {
      "cell_type": "code",
      "execution_count": null,
      "metadata": {
        "id": "eE93h_jQtrm4"
      },
      "outputs": [],
      "source": [
        "# Importar imagem aleatória\n",
        "import random\n",
        "num_imgs = 2000\n",
        "test_img_number = random.randint(0, num_imgs-1)\n",
        "X_test = test_data_generator(test_img_number, 'x')[0]\n",
        "Y_test = test_data_generator(test_img_number, 'y')\n"
      ]
    },
    {
      "cell_type": "code",
      "execution_count": null,
      "metadata": {
        "colab": {
          "base_uri": "https://localhost:8080/",
          "height": 296
        },
        "id": "140hM6kUnxQa",
        "outputId": "0dda544c-1043-4719-b5fa-15fc78049426"
      },
      "outputs": [
        {
          "output_type": "stream",
          "name": "stdout",
          "text": [
            "1/1 [==============================] - 0s 62ms/step\n"
          ]
        },
        {
          "output_type": "display_data",
          "data": {
            "text/plain": [
              "<Figure size 1200x800 with 3 Axes>"
            ],
            "image/png": "[encoded data removed]"
          },
          "metadata": {}
        }
      ],
      "source": [
        "import random\n",
        "import matplotlib.pyplot as plt\n",
        "test_img = X_test\n",
        "ground_truth=Y_test\n",
        "test_img_norm=test_img[:,:,0][:,:,None]\n",
        "test_img_input=np.expand_dims(test_img_norm, 0)\n",
        "prediction = (model.predict(test_img_input))\n",
        "predicted_img=np.argmax(prediction, axis=3)[0,:,:]\n",
        "\n",
        "\n",
        "plt.figure(figsize=(12, 8))\n",
        "plt.subplot(231)\n",
        "plt.title('Testing Image')\n",
        "plt.imshow(test_img[:,:,0], cmap='gray')\n",
        "plt.subplot(232)\n",
        "plt.title('Testing Label')\n",
        "plt.imshow(ground_truth[:,:,0], cmap='jet')\n",
        "plt.subplot(233)\n",
        "plt.title('Prediction on test image')\n",
        "plt.imshow(predicted_img, cmap='jet')\n",
        "plt.savefig('/content/drive/MyDrive/Lume/road_mapper_dnn/src/saida'+str(test_img_number), format='png')\n",
        "plt.show()"
      ]
    }
  ],
  "metadata": {
    "accelerator": "GPU",
    "colab": {
      "machine_shape": "hm",
      "provenance": [],
      "gpuType": "T4"
    },
    "kernelspec": {
      "display_name": "Python 3",
      "name": "python3"
    },
    "language_info": {
      "codemirror_mode": {
        "name": "ipython",
        "version": 3
      },
      "file_extension": ".py",
      "mimetype": "text/x-python",
      "name": "python",
      "nbconvert_exporter": "python",
      "pygments_lexer": "ipython3",
      "version": "3.10.12"
    }
  },
  "nbformat": 4,
  "nbformat_minor": 0
}